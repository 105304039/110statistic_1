{
 "cells": [
  {
   "cell_type": "markdown",
   "id": "257ca7c5-1eeb-4cba-bde2-27296ebe2c64",
   "metadata": {},
   "source": [
    "# 基本畫圖"
   ]
  },
  {
   "cell_type": "markdown",
   "id": "dd81cab4-a0c8-4076-82b5-d2213a867e40",
   "metadata": {},
   "source": [
    "## 套件\n",
    "還沒安裝就到終端打入conda install matplotlib並且proceed打y～<br>\n",
    "畫圖也有別的套件喔，比如seaborn，這裏講解matplotlib的畫圖邏輯，他們部分是可以混用的，邏輯差不多！"
   ]
  },
  {
   "cell_type": "code",
   "execution_count": 2,
   "id": "236915b1-3e1c-4041-b084-7da62507d98c",
   "metadata": {},
   "outputs": [],
   "source": [
    "import matplotlib.pyplot as plt"
   ]
  },
  {
   "cell_type": "markdown",
   "id": "eaedaf23-7b90-486b-8958-408dfb6a7784",
   "metadata": {},
   "source": [
    "## 如何顯示中文？\n",
    "這個套件會預設是英文字體，如果輸入中文會出現error。<br>\n",
    "因此，可以透過指定全域或者個別項目指定字體，這裡示範全域字體：第一步是要找到個人電腦裡面的字體檔案位址！<br>\n",
    "例如我的mac上黑體的位置在/System/Library/Fonts/STHeiti Light.ttc<br>\n",
    "我的標楷體在/Users/Grace/Library/Fonts/BiauKai.ttf<br>\n",
    "然後如下輸入到matplotlib的字體裡，並且全域指定為該字體。<br>\n",
    "note: .ttf和.ttc都是字體的副檔名～"
   ]
  },
  {
   "cell_type": "code",
   "execution_count": 139,
   "id": "b150db96-1bb6-424a-b36e-d84c62d8b7f1",
   "metadata": {},
   "outputs": [],
   "source": [
    "# 以下程式碼為：利用某字體路徑，指定現在畫圖使用的字體全部為該字體\n",
    "\n",
    "import matplotlib.font_manager as font_manager\n",
    "font_path = '/System/Library/Fonts/STHeiti Light.ttc'  # 每個人的字體位址不同！自己要輸入自己的～\n",
    "font_manager.fontManager.addfont(font_path)\n",
    "prop = font_manager.FontProperties(fname=font_path)\n",
    "plt.rcParams['font.family'] = prop.get_name()          # 將現在畫圖的字體指定為我的STHeiti Light"
   ]
  },
  {
   "cell_type": "code",
   "execution_count": 126,
   "id": "9a494a1a-3df2-454e-bbe8-447ab9ab0c4e",
   "metadata": {},
   "outputs": [
    {
     "data": {
      "image/png": "[encoded data removed]",
      "text/plain": [
       "<Figure size 72x72 with 1 Axes>"
      ]
     },
     "metadata": {
      "needs_background": "light"
     },
     "output_type": "display_data"
    }
   ],
   "source": [
    "# 示範「黑體」樣式\n",
    "\n",
    "plt.figure(figsize = (1,1))\n",
    "plt.axis(\"off\")\n",
    "plt.annotate(\"黑體\",(0,0.25),size = 18)\n",
    "plt.show()"
   ]
  },
  {
   "cell_type": "code",
   "execution_count": 137,
   "id": "87e8c069-989a-4366-94e0-d5c615514917",
   "metadata": {},
   "outputs": [],
   "source": [
    "# 以下程式碼為：利用某字體路徑，指定現在畫圖使用的字體全部為該字體\n",
    "\n",
    "font_path = '/Users/Grace/Library/Fonts/BiauKai.ttf'  # 每個人的字體位址不同！自己要輸入自己的～\n",
    "font_manager.fontManager.addfont(font_path)\n",
    "prop = font_manager.FontProperties(fname=font_path)\n",
    "plt.rcParams['font.family'] = prop.get_name()         # 將現在畫圖的字體指定為我的Biaukai"
   ]
  },
  {
   "cell_type": "code",
   "execution_count": 138,
   "id": "6bf3c1b9-352d-4211-91ad-f51987633cc1",
   "metadata": {},
   "outputs": [
    {
     "data": {
      "image/png": "[encoded data removed]",
      "text/plain": [
       "<Figure size 72x72 with 1 Axes>"
      ]
     },
     "metadata": {
      "needs_background": "light"
     },
     "output_type": "display_data"
    }
   ],
   "source": [
    "# 示範「標楷體」樣式\n",
    "\n",
    "plt.figure(figsize = (1,1))\n",
    "plt.axis(\"off\")\n",
    "plt.annotate(\"標楷體\",(0,0.25),size = 18)\n",
    "plt.show()"
   ]
  },
  {
   "cell_type": "markdown",
   "id": "4d251497-ba27-456d-829d-b13debdd6c0e",
   "metadata": {},
   "source": [
    "## 認識圖的部位"
   ]
  },
  {
   "cell_type": "code",
   "execution_count": 152,
   "id": "c10a6a89-d0c4-40a1-93ac-3b0dca406619",
   "metadata": {},
   "outputs": [
    {
     "data": {
      "image/png": "[encoded data removed]",
      "text/plain": [
       "<Figure size 360x216 with 1 Axes>"
      ]
     },
     "metadata": {
      "needs_background": "light"
     },
     "output_type": "display_data"
    }
   ],
   "source": [
    "# 圖片大小\n",
    "plt.figure(figsize = (5,3))\n",
    "\n",
    "# 圖片標題\n",
    "plt.title(\"標題\",size = 20)    \n",
    "\n",
    "# 將x軸上的0.5位置命名為\"x軸刻度\"\n",
    "plt.xticks([0.5],        # 先填入[欲取代的刻度]\n",
    "           [\"x軸刻度\"],   # 後填入[以什麼取代]\n",
    "           size = 13,\n",
    "           rotation = 45)\n",
    "\n",
    "# 將x軸上的0.5位置命名為\"x軸刻度\"\n",
    "plt.yticks([0.5],        # 先填入[欲取代的刻度]\n",
    "           [\"y軸刻度\"],   # 後填入[以什麼取代]\n",
    "           size = 13)\n",
    "\n",
    "# 顯示圖上的格子\n",
    "plt.grid()  \n",
    "\n",
    "\n",
    "# 軸標籤\n",
    "plt.xlabel(\"x軸名稱\",\n",
    "           size = 15)\n",
    "\n",
    "\n",
    "plt.ylabel(\"y軸名稱\",\n",
    "           size = 15)\n",
    "\n",
    "# 顯示圖片\n",
    "plt.show()  "
   ]
  },
  {
   "cell_type": "markdown",
   "id": "6afe739f-de24-47ea-a294-4ae9d2a4f21f",
   "metadata": {},
   "source": [
    "## 全部一起指定畫圖參數"
   ]
  },
  {
   "cell_type": "markdown",
   "id": "4f2a8c19-f477-41f5-a49c-2e4e569e04cc",
   "metadata": {},
   "source": [
    "繪圖參數是一本字典，叫做plt.rcParams<br>\n",
    "recall: 剛剛有指定過'font.family':prop.get_name()到rcParams中，是加到同一本參數字典！"
   ]
  },
  {
   "cell_type": "code",
   "execution_count": 153,
   "id": "c0ab8c2f-d279-4038-9a4c-7691b9bc607f",
   "metadata": {},
   "outputs": [],
   "source": [
    "# 懶得每次調整可以固定一組參數！\n",
    "# 可指定參數：https://matplotlib.org/stable/api/matplotlib_configuration_api.html\n",
    "\n",
    "parameters = {'axes.labelsize': 16,  # 指定label size\n",
    "             'axes.titlesize': 20,   # 指定title size\n",
    "             'xtick.labelsize':13,   # 指定x軸上的刻度標籤size\n",
    "             'figure.figsize':(5,3)} # 指定圖片大小  \n",
    "\n",
    "plt.rcParams.update(parameters)"
   ]
  },
  {
   "cell_type": "markdown",
   "id": "8686e65b-8ebe-4a00-b3bc-2facaa72249b",
   "metadata": {},
   "source": [
    "## 各式圖"
   ]
  },
  {
   "cell_type": "markdown",
   "id": "52d2839c-a397-40ee-a7cf-a6c24b680b3a",
   "metadata": {},
   "source": [
    "* bar chart\\\n",
    "https://matplotlib.org/stable/api/_as_gen/matplotlib.pyplot.bar.html"
   ]
  },
  {
   "cell_type": "code",
   "execution_count": 159,
   "id": "75563b95-5a41-4b33-a438-bd76fdf1d009",
   "metadata": {},
   "outputs": [
    {
     "data": {
      "image/png": "[encoded data removed]",
      "text/plain": [
       "<Figure size 360x216 with 1 Axes>"
      ]
     },
     "metadata": {
      "needs_background": "light"
     },
     "output_type": "display_data"
    }
   ],
   "source": [
    "# （此時無需個別指定字體大小或是圖片大小等等！）\n",
    "\n",
    "plt.title(\"10/31上市台股熱門排行成交量前五名\")    \n",
    "plt.bar([\"群創\",\"友達\",\"聯電\",\"長榮\",\"陽明\"],\n",
    "        [256052,249676,227763,225384,148449],\n",
    "       color = \"skyblue\")\n",
    "plt.xlabel(\"上市公司\")\n",
    "plt.ylabel(\"成交量(張)\")\n",
    "plt.show() "
   ]
  },
  {
   "cell_type": "markdown",
   "id": "bdb0267a-6aa7-406f-987b-1701583d9e58",
   "metadata": {},
   "source": [
    "* line graph\\\n",
    "https://matplotlib.org/stable/api/_as_gen/matplotlib.pyplot.plot.html"
   ]
  },
  {
   "cell_type": "code",
   "execution_count": 215,
   "id": "d1ff59fe-29bc-40c8-aef5-883a4f490a75",
   "metadata": {},
   "outputs": [
    {
     "data": {
      "image/png": "[encoded data removed]",
      "text/plain": [
       "<Figure size 360x216 with 1 Axes>"
      ]
     },
     "metadata": {
      "needs_background": "light"
     },
     "output_type": "display_data"
    }
   ],
   "source": [
    "x = [\"一\",\"二\",\"三\",\"四\",\"五\",\"六\",\"日\"]\n",
    "\n",
    "plt.title(\"未來一週氣溫\")    \n",
    "plt.plot(x,\n",
    "        [22,22,22,23,24,24,22],\n",
    "        linestyle = \"--\",label = \"台大\",color = \"#800000\")   # 也可以用色碼表指定顏色\n",
    "plt.plot(x,\n",
    "        [17,18,18,19,19,19,18],\n",
    "        linestyle = \":\",label = \"基隆\", color = \"darkblue\")\n",
    "plt.ylim(15,30)            # 指定y軸的範圍，分別填入最小值與最大值\n",
    "plt.xlabel(\"星期\")\n",
    "plt.ylabel(\"氣溫($^oC$)\")  # 兩個$中間是latex語法，大家可以遇到需求再去查詢～\n",
    "plt.legend()               # 顯示圖例（記得前面畫圖時要指定label才有東西可以顯示）\n",
    "plt.grid()\n",
    "plt.show() "
   ]
  },
  {
   "cell_type": "markdown",
   "id": "a98b5ff4-a7ee-4137-b436-ba8b0e8a8802",
   "metadata": {},
   "source": [
    "* pie chart"
   ]
  },
  {
   "cell_type": "code",
   "execution_count": 192,
   "id": "0daefb6f-2dbf-4521-a9d7-5df2ef473e06",
   "metadata": {},
   "outputs": [
    {
     "data": {
      "image/png": "[encoded data removed]",
      "text/plain": [
       "<Figure size 360x216 with 1 Axes>"
      ]
     },
     "metadata": {},
     "output_type": "display_data"
    }
   ],
   "source": [
    "items = ['原料','在製品','商品']\n",
    "size = [64283,47605,651]\n",
    "dist = [0.05,0.05,0.1]      # 指定各區塊距離圓心...\n",
    "\n",
    "plt.title(\"瓦城109年度存貨成本\")\n",
    "plt.pie(size,\n",
    "        labels = items,\n",
    "        explode = dist,\n",
    "        autopct='%0.1f%%')  #小數點前的數字代表輸出長度（可能要補0）\n",
    "                            #小數點後代表顯示小數點後幾位\n",
    "plt.show()"
   ]
  },
  {
   "cell_type": "markdown",
   "id": "54c4ffd1-0ba6-4cf1-b0a2-358bf33d90de",
   "metadata": {},
   "source": [
    "* scatter plot"
   ]
  },
  {
   "cell_type": "code",
   "execution_count": 201,
   "id": "951bfa1c-31b1-45ef-aeb0-60e1fac2e98b",
   "metadata": {},
   "outputs": [
    {
     "data": {
      "image/png": "[encoded data removed]",
      "text/plain": [
       "<Figure size 360x216 with 1 Axes>"
      ]
     },
     "metadata": {
      "needs_background": "light"
     },
     "output_type": "display_data"
    }
   ],
   "source": [
    "acer = [23495,20318,27744,24950,24807,30019]\n",
    "asus = [33686,31289,43129,36502,38582,45186]\n",
    "\n",
    "plt.title(\"2021上半年Acer與ASUS月營收散佈圖\")\n",
    "plt.scatter(acer,asus)\n",
    "plt.xlabel(\"Acer月營收(百萬)\")\n",
    "plt.ylabel(\"ASUS月營收(百萬)\")\n",
    "plt.axis(\"equal\")  # 讓刻度的大小顯示一致\n",
    "plt.show()"
   ]
  },
  {
   "cell_type": "markdown",
   "id": "402407bb-08aa-4fac-880a-d750f6ece33e",
   "metadata": {},
   "source": [
    "* histogram\\\n",
    "透過from scipy.stats import expon獲得指數分配相關的套件內容\\\n",
    "expon.rvs(loc=0, scale=10,size=1000)表示對此分配隨機抽取：\n",
    "$f(x)=\\frac{1}{10}e^{(-\\frac{1}{10}x)}$"
   ]
  },
  {
   "cell_type": "code",
   "execution_count": 216,
   "id": "00eb1ace-0618-4f62-8a10-c9c5039a196c",
   "metadata": {},
   "outputs": [
    {
     "data": {
      "image/png": "[encoded data removed]",
      "text/plain": [
       "<Figure size 360x216 with 1 Axes>"
      ]
     },
     "metadata": {
      "needs_background": "light"
     },
     "output_type": "display_data"
    }
   ],
   "source": [
    "from scipy.stats import expon\n",
    "r = expon.rvs(0,10,size=1000)\n",
    "plt.title(r\"隨機抽取1000個來自$\\frac{1}{10}e^{(-\\frac{1}{10}x)}$的樣本\")\n",
    "plt.hist(r)\n",
    "plt.show()"
   ]
  },
  {
   "cell_type": "code",
   "execution_count": 245,
   "id": "fe9f9d76-786a-426c-b68f-db832488d534",
   "metadata": {},
   "outputs": [
    {
     "data": {
      "image/png": "[encoded data removed]",
      "text/plain": [
       "<Figure size 360x216 with 1 Axes>"
      ]
     },
     "metadata": {
      "needs_background": "light"
     },
     "output_type": "display_data"
    }
   ],
   "source": [
    "import numpy as np\n",
    "from scipy.stats import norm\n",
    "\n",
    "s = 1000     # 抽取1000次\n",
    "n = 100       # 每次抽100個\n",
    "xbar = [np.mean(expon.rvs(0,10,size=n)) for i in range(s)]\n",
    "plt.hist((xbar-np.mean(xbar))/(np.mean(xbar)/np.sqrt(n)))\n",
    "\n",
    "# 畫normal的curve\n",
    "x = np.linspace(-3,3,100)\n",
    "plt.plot(x, norm.pdf(x, 0, 1))\n",
    "\n",
    "plt.show()"
   ]
  },
  {
   "cell_type": "code",
   "execution_count": 240,
   "id": "2d96c95c-5f60-47ea-89a7-ca52c4e1bd28",
   "metadata": {},
   "outputs": [
    {
     "data": {
      "text/plain": [
       "[<matplotlib.lines.Line2D at 0x7fabd840a520>]"
      ]
     },
     "execution_count": 240,
     "metadata": {},
     "output_type": "execute_result"
    },
    {
     "data": {
      "image/png": "[encoded data removed]",
      "text/plain": [
       "<Figure size 360x216 with 1 Axes>"
      ]
     },
     "metadata": {
      "needs_background": "light"
     },
     "output_type": "display_data"
    }
   ],
   "source": [
    "x = np.linspace(10 - 6, 10 + 6, 100)\n",
    "plt.plot(x, norm.pdf(x, 10, 10/np.sqrt(n)))"
   ]
  },
  {
   "cell_type": "code",
   "execution_count": 241,
   "id": "3062da05-87b7-4a0a-865c-83a560ee2b6d",
   "metadata": {},
   "outputs": [
    {
     "data": {
      "text/plain": [
       "array([-2.88649884e-03, -1.42732635e-01,  6.50622886e-02, -4.97061482e-02,\n",
       "        2.93015126e-01, -1.44382316e-01, -3.23028621e-02,  5.31675383e-02,\n",
       "       -6.67841287e-02, -2.73056414e-02,  9.66712658e-02,  6.16262805e-02,\n",
       "        9.29158645e-02,  1.42624264e-02,  6.52045156e-02,  1.68339613e-02,\n",
       "       -1.14625889e-01, -1.31578276e-01, -1.13791364e-01, -2.43478762e-01,\n",
       "        1.75318431e-01,  6.13790774e-02,  7.38337557e-02, -8.23579344e-02,\n",
       "       -7.73566267e-02,  2.71802680e-01, -6.86065671e-02, -2.06156801e-01,\n",
       "        2.75473346e-02, -1.60785285e-02, -7.79376263e-02, -3.87306901e-02,\n",
       "       -3.95150782e-03, -6.39274882e-03, -7.18413543e-03, -8.40375569e-03,\n",
       "       -2.33272684e-03,  6.78064489e-02, -4.42904595e-02, -3.06959884e-02,\n",
       "        1.82639024e-02, -6.78921340e-02, -1.16006817e-01,  2.89091912e-02,\n",
       "       -2.73980145e-02,  1.34813663e-01, -5.06129288e-02, -1.16070687e-01,\n",
       "       -1.35115629e-01,  1.05105684e-01, -1.50976495e-01, -8.00735142e-02,\n",
       "       -1.56242900e-01, -7.27214335e-03, -9.88368207e-02,  4.67576343e-02,\n",
       "       -6.96763706e-02,  1.21828215e-01,  1.20352895e-01, -7.38934501e-02,\n",
       "       -9.39867021e-02, -3.43950017e-02,  2.50973172e-03, -4.14463054e-02,\n",
       "        1.76683094e-01,  3.52475561e-02,  9.10987647e-02,  1.34159521e-01,\n",
       "       -5.00618725e-03,  5.72868667e-02,  9.65678343e-02, -8.75654748e-02,\n",
       "        1.22285509e-01, -8.61036914e-03,  7.59167699e-02,  7.75866776e-02,\n",
       "       -6.36034298e-02, -2.52188914e-03,  7.22816261e-02, -2.98586144e-02,\n",
       "       -6.46924221e-02,  7.71429036e-02,  7.73734206e-02,  2.90820479e-02,\n",
       "        6.06850388e-02,  2.56158495e-01, -5.52049238e-02,  8.88972515e-02,\n",
       "       -6.36523475e-02, -3.77584569e-02, -3.88600680e-02,  4.67558491e-03,\n",
       "       -4.69575118e-02, -2.61113421e-02,  1.60363860e-01,  3.20800706e-02,\n",
       "        2.88066818e-02,  4.33360392e-02, -1.51684020e-01,  9.45460593e-02,\n",
       "        3.49240892e-02, -2.39210178e-02, -9.69988989e-03, -4.90187336e-02,\n",
       "        2.30444424e-02, -6.59865271e-02,  2.50195324e-02,  2.36327475e-01,\n",
       "        1.55728625e-01, -9.37133352e-02,  2.40322030e-01,  1.52420709e-02,\n",
       "       -1.64215574e-01, -8.74728747e-02,  5.32761350e-02,  1.34101557e-02,\n",
       "       -9.75668486e-02, -2.42641493e-02,  1.04037484e-01,  2.92068353e-02,\n",
       "       -1.76588772e-01, -7.97621897e-02, -1.98856688e-02, -2.06952585e-01,\n",
       "       -2.13721763e-02,  6.96698544e-02, -8.83328766e-02,  2.33172256e-02,\n",
       "        1.41490273e-01,  5.85334905e-02,  1.43507346e-02,  9.99049953e-02,\n",
       "       -2.16830034e-01,  1.31106137e-01,  2.88393074e-02,  1.81475495e-02,\n",
       "       -1.41531675e-01, -2.19699147e-01,  8.22616660e-03, -2.44575621e-01,\n",
       "        5.04227949e-02,  9.96700558e-02, -1.09563524e-01, -1.45496461e-02,\n",
       "        5.66450195e-02, -9.71190567e-02,  9.68620034e-02,  9.77360277e-02,\n",
       "       -1.01037744e-01,  6.93969411e-02, -1.32316672e-01,  1.93281766e-02,\n",
       "       -3.26124210e-02,  1.84123607e-01,  1.33655723e-02, -2.58234305e-01,\n",
       "        5.59589686e-02,  9.67348455e-04,  1.07686050e-01,  2.37556380e-01,\n",
       "        2.28578977e-02,  2.92921863e-02,  7.17499415e-02,  1.70407179e-02,\n",
       "       -4.73642003e-02,  1.61746541e-01, -3.44486163e-02, -1.17420425e-01,\n",
       "       -1.61003215e-02, -9.25371865e-02,  3.77985070e-02, -6.03117581e-02,\n",
       "       -3.04806473e-02, -3.11307054e-02, -2.64777918e-02,  1.82076952e-01,\n",
       "       -9.20186526e-02, -1.64209076e-01,  5.46041182e-02, -3.63378786e-02,\n",
       "       -2.42371099e-02,  6.38423354e-02, -3.98497742e-02, -1.05038734e-01,\n",
       "        8.23737793e-02, -4.90247112e-02,  5.87525473e-02,  6.48850220e-02,\n",
       "        8.01840031e-02,  2.39085070e-02, -1.14006957e-01,  6.26176196e-02,\n",
       "       -1.27146114e-03,  7.76582099e-02, -4.98569865e-02, -1.45081048e-02,\n",
       "        1.58079186e-03,  1.36183212e-01,  1.14649583e-01,  1.04191157e-01,\n",
       "       -1.67475062e-02,  2.57115909e-02, -2.70533266e-02, -1.24440110e-03,\n",
       "       -6.41598491e-03, -1.53268942e-01, -1.34755604e-01,  8.72968497e-02,\n",
       "        7.45491018e-03, -2.24040287e-02,  6.95197436e-02,  6.38841988e-02,\n",
       "       -1.15921899e-01, -4.66227568e-02,  7.41814862e-02,  1.39237232e-01,\n",
       "        1.58199273e-02, -6.27824195e-03, -3.98503529e-02,  1.06578225e-02,\n",
       "        1.21273968e-01,  1.21920709e-01, -2.90568009e-02, -1.65923033e-01,\n",
       "        5.57739492e-02,  3.31109916e-02,  6.85570744e-02, -3.26397937e-02,\n",
       "        6.67973536e-02, -1.37086644e-02,  2.46255605e-02,  1.44389299e-01,\n",
       "        9.49400928e-03, -1.28300162e-01,  5.67736864e-03,  1.36644490e-01,\n",
       "       -1.20972084e-01,  7.57167915e-02,  1.57418371e-01, -9.68268306e-02,\n",
       "        1.14952442e-01,  1.86965367e-01, -3.41920585e-03, -1.94223762e-01,\n",
       "       -2.42755527e-02,  1.20125007e-01,  1.41468998e-02,  8.41723551e-05,\n",
       "       -7.42639448e-03,  3.81111893e-02, -1.10272456e-01, -4.86116583e-03,\n",
       "        1.18814567e-01, -2.85896433e-02,  8.81591548e-02,  1.73171836e-02,\n",
       "       -9.47893082e-02, -4.99087036e-02,  8.04640266e-02,  1.43486714e-03,\n",
       "        1.08350905e-01, -4.14962047e-02, -4.03040165e-02,  4.54782460e-02,\n",
       "       -1.94239739e-01,  7.25257884e-02, -1.83871265e-02, -8.65552120e-02,\n",
       "        2.48295746e-02, -8.11848913e-02,  1.15425363e-01, -9.57714014e-02,\n",
       "       -1.03561827e-01, -1.01464434e-01, -1.08967572e-01,  1.75193009e-01,\n",
       "        1.10530119e-01,  1.29478979e-01, -4.09322408e-02,  1.66574492e-01,\n",
       "       -1.23060935e-01, -1.18594527e-01,  3.77794184e-02, -2.54059894e-02,\n",
       "       -2.21923580e-02, -1.03806168e-01, -3.81275538e-02,  6.87037174e-03,\n",
       "       -2.59883180e-02, -6.54766774e-02,  3.56912766e-02, -6.12772799e-02,\n",
       "        9.31993840e-02,  7.52727163e-02, -5.67735120e-02, -9.40898642e-02,\n",
       "        1.48573980e-02,  1.56274659e-02,  7.95376439e-02, -5.50241079e-02,\n",
       "        1.15179144e-01,  1.01034132e-01, -1.78891356e-01,  2.45805480e-03,\n",
       "        3.95963788e-02, -3.68170012e-02,  1.04709580e-01,  3.77998396e-02,\n",
       "        1.33026503e-01,  4.60354033e-02,  3.71200750e-02,  3.96527240e-02,\n",
       "        8.69660914e-02, -1.21150929e-01,  1.49612166e-01,  8.89936609e-02,\n",
       "       -1.31522636e-01, -1.99754179e-03,  4.36718765e-02, -8.08173950e-03,\n",
       "       -2.54908833e-02, -3.26063455e-02, -1.22551280e-01,  3.45659976e-02,\n",
       "        9.99534426e-02, -2.24250961e-02,  1.27820317e-01, -2.17972732e-01,\n",
       "        1.44296415e-01, -2.29586288e-02,  1.75469939e-03, -1.73754980e-01,\n",
       "       -8.09588001e-02, -1.35038901e-01, -1.52914908e-02, -8.83610008e-03,\n",
       "       -1.46899088e-02, -8.62218277e-02,  2.08475055e-01, -5.83463293e-02,\n",
       "        9.99575036e-03,  7.64384268e-02,  2.93863750e-02,  3.10135614e-02,\n",
       "       -1.11770156e-01, -6.81562207e-02, -1.44645408e-02,  5.44480355e-02,\n",
       "       -1.37114861e-02,  5.93064247e-02,  9.79495168e-02, -7.30831438e-02,\n",
       "       -1.64231718e-01, -1.22008564e-01, -5.47099826e-02,  8.48205023e-04,\n",
       "        4.18650166e-02, -1.03344227e-01, -7.92254841e-02,  2.00413900e-02,\n",
       "        2.49053443e-02, -5.60913296e-02, -5.33369372e-03, -9.23036088e-02,\n",
       "       -4.82952215e-02, -2.58280012e-02, -1.70503007e-01,  1.13468024e-01,\n",
       "        6.11497638e-02,  1.68372042e-01, -4.82463451e-03,  1.45769231e-01,\n",
       "       -7.97833599e-02,  1.60580664e-02,  8.60279262e-02, -1.96450492e-02,\n",
       "       -1.40252332e-01, -6.74916585e-02, -6.92249454e-02, -1.64382971e-01,\n",
       "       -1.46552053e-02, -2.10879824e-02,  7.80111581e-02,  9.26202918e-02,\n",
       "        5.44906957e-02,  3.05569455e-04, -1.13637408e-01, -3.14717984e-03,\n",
       "       -6.16036892e-02,  4.04924593e-02,  1.49792194e-01, -1.45078958e-01,\n",
       "        4.95439182e-02, -1.15484925e-02, -4.69305016e-02,  1.23921215e-01,\n",
       "       -1.08701926e-02,  5.08815302e-02, -1.33769721e-01,  1.48884779e-02,\n",
       "       -1.79417609e-02,  6.41818738e-03, -1.11293985e-01,  5.97352585e-02,\n",
       "        2.35751694e-02, -4.72117769e-03, -3.72944912e-02, -4.10362917e-02,\n",
       "       -9.44965031e-02,  7.47270326e-03,  8.32015712e-02,  1.89177802e-01,\n",
       "       -1.59557089e-01, -8.00159496e-02,  2.96491321e-02, -2.09309257e-01,\n",
       "        4.52197566e-03, -1.26663664e-01, -9.41669386e-03, -7.45184151e-02,\n",
       "       -5.05361158e-02,  8.76174206e-02, -1.87377276e-02,  1.75949449e-01,\n",
       "        5.72229236e-02,  1.47891069e-01, -5.51225297e-02,  1.18274619e-01,\n",
       "        3.26166371e-02, -6.48533422e-03, -5.19241730e-02,  6.65053645e-02,\n",
       "        1.11869150e-02,  4.19974485e-02, -2.03758966e-01,  2.86445016e-02,\n",
       "        9.07034212e-03, -7.99650843e-02, -1.36975133e-01,  4.43044359e-03,\n",
       "        2.10764437e-02, -1.15496385e-01,  7.31350217e-02, -4.03330398e-02,\n",
       "       -3.93135296e-03, -1.77214163e-01, -1.74632905e-01, -1.09865942e-01,\n",
       "        2.30769733e-01,  3.64025954e-02, -6.61790085e-02, -2.24743347e-02,\n",
       "       -5.86406496e-02, -2.48019902e-02,  1.69250667e-02, -1.09091858e-01,\n",
       "        1.87133400e-01,  1.88849705e-01, -9.79579758e-02,  7.14262329e-02,\n",
       "       -8.26396570e-02,  9.24868241e-02, -5.43696378e-02, -1.27126939e-01,\n",
       "        1.13067581e-01, -7.46893076e-02,  1.11829521e-02,  1.99504025e-01,\n",
       "       -7.50755529e-02, -5.54957774e-02,  1.82889469e-01,  2.12376328e-02,\n",
       "        3.01260778e-02, -1.39888279e-01,  6.51938184e-02,  1.41067948e-01,\n",
       "        5.59020219e-02, -1.51790633e-01, -1.40596710e-01, -8.84401926e-02,\n",
       "        3.00350561e-02, -1.42004622e-01,  6.44192850e-02, -8.80069514e-02,\n",
       "       -9.00841625e-03, -3.68761997e-02,  5.50141130e-02, -1.47325839e-02,\n",
       "       -3.00134908e-02,  7.67349163e-02, -7.93583811e-02,  1.67041939e-01,\n",
       "        1.11431949e-01,  2.00739074e-02,  1.21443740e-01,  2.06600533e-01,\n",
       "        2.19709034e-01, -1.53643956e-01, -1.68035795e-02,  1.67620280e-01,\n",
       "       -1.00337613e-01,  1.05975659e-01,  1.20193124e-02,  7.26552581e-02,\n",
       "       -6.98495440e-02,  4.18739571e-01, -6.39036008e-02,  7.88433064e-02,\n",
       "        1.19618161e-02,  2.31424523e-02, -1.96601359e-01,  4.72520829e-02,\n",
       "        7.65111269e-02,  1.19853991e-02, -2.83204187e-02, -5.00078820e-02,\n",
       "        2.03523037e-01,  7.08754028e-02, -2.20713460e-02,  6.93749871e-03,\n",
       "       -5.94294126e-02,  1.41719971e-01,  5.45670933e-02,  6.46831525e-02,\n",
       "       -6.36542129e-02, -6.57553013e-02, -5.17365951e-02,  6.95328869e-02,\n",
       "        9.27551768e-02, -1.00430171e-01,  5.74819678e-02, -2.73931416e-02,\n",
       "       -7.17801126e-03,  1.56745153e-01,  2.03393988e-01, -1.34268514e-01,\n",
       "        4.57469669e-02, -5.42177592e-02, -3.10113850e-02, -2.26733727e-01,\n",
       "       -5.66481946e-02, -1.07790331e-01, -1.84956973e-03, -3.21436367e-02,\n",
       "        7.08219216e-02,  1.26101258e-01, -2.97068462e-02, -1.11144870e-01,\n",
       "       -9.32525032e-03, -1.26944917e-02,  3.21289312e-02,  9.05831930e-03,\n",
       "       -1.57848813e-02,  8.56550779e-02, -8.27800764e-03, -4.19582483e-02,\n",
       "        9.73523323e-02,  2.60388908e-02,  1.40251296e-01,  9.26087738e-03,\n",
       "        6.12245948e-02, -1.69030415e-02, -1.11124018e-01,  1.14832514e-01,\n",
       "        1.48893893e-02, -2.20569652e-01, -4.49542029e-02, -1.51306230e-01,\n",
       "       -8.37048036e-02,  5.63987020e-02,  1.62482686e-01,  1.23315150e-01,\n",
       "       -6.60667642e-02, -8.96631072e-02, -9.91419003e-02,  7.79660070e-02,\n",
       "       -7.33363848e-02, -1.19636902e-01, -9.22572369e-02, -1.14117786e-01,\n",
       "       -1.23743027e-01, -3.60315596e-02, -5.06758970e-02, -2.96712209e-02,\n",
       "       -2.97728456e-02, -9.17398191e-02,  2.34238292e-01, -4.36655378e-02,\n",
       "        1.38613635e-01,  1.60502672e-01,  6.17459692e-02,  1.95012558e-01,\n",
       "       -4.29073774e-02,  5.83214006e-02, -1.06033324e-01, -7.91355319e-02,\n",
       "        3.26174614e-02,  4.46314384e-02,  5.42949396e-02, -1.80195008e-01,\n",
       "       -2.05704500e-01, -3.85657434e-02,  9.81986177e-03, -5.91157477e-02,\n",
       "        3.00029441e-02, -3.03690151e-02,  9.53266140e-02,  1.51220779e-02,\n",
       "       -8.31523204e-02, -1.08499687e-01, -1.13317915e-02, -5.33453954e-02,\n",
       "        7.08254768e-02, -2.86536361e-02, -1.67303732e-01, -6.35325036e-03,\n",
       "        6.09802135e-02, -6.70617581e-02, -1.54535496e-01,  1.05627528e-01,\n",
       "       -9.57845578e-02, -1.63153613e-01, -7.57730626e-02, -9.77535832e-02,\n",
       "       -3.57080255e-02,  1.41268412e-02,  5.30992750e-02, -1.67235637e-01,\n",
       "        5.98444760e-02,  1.21434068e-01,  1.16374370e-01,  8.13371379e-02,\n",
       "        1.75982142e-01,  4.87249272e-02,  1.80342293e-01,  4.09884406e-02,\n",
       "       -8.08479852e-02, -7.03753979e-02,  8.81007569e-03,  9.97408377e-02,\n",
       "       -7.94954374e-03, -8.90053699e-03, -4.26009970e-02, -1.01045911e-01,\n",
       "       -1.38851173e-02,  1.21425404e-02,  1.57725437e-02,  9.40056344e-05,\n",
       "       -1.21123371e-01, -6.15868491e-02, -1.80870184e-01, -8.87060076e-02,\n",
       "       -9.29430545e-02, -6.36891095e-02,  9.09763438e-03,  1.95957917e-01,\n",
       "       -1.17170759e-01,  8.62965652e-02,  8.86600757e-02, -7.61102706e-02,\n",
       "       -2.73852973e-02,  1.84955182e-01,  2.84185470e-02,  1.56993421e-01,\n",
       "       -4.30375504e-02,  2.96474425e-02, -1.30032092e-02,  1.04428105e-01,\n",
       "        3.88286070e-02,  1.67949587e-01, -7.13723373e-02,  3.89271503e-02,\n",
       "        1.33097000e-02, -1.26501279e-01,  1.34594981e-02,  5.73531653e-02,\n",
       "        8.19460008e-02,  1.81265818e-02, -2.06831560e-02,  2.11389925e-02,\n",
       "        7.44902378e-02,  2.63935535e-02,  1.34244424e-01, -3.52064075e-02,\n",
       "        3.04046846e-01,  1.83481579e-01,  7.63751425e-03,  6.20657009e-02,\n",
       "        7.82494786e-03,  2.95603795e-02,  8.45008799e-02, -1.76466502e-01,\n",
       "        9.97880449e-02, -2.68083337e-01,  1.03544494e-01, -6.95655338e-02,\n",
       "       -6.78356484e-02,  2.17886031e-01,  2.87437915e-02, -9.99909321e-02,\n",
       "        6.91773805e-03, -1.59725825e-01,  9.82719301e-04,  1.26117574e-01,\n",
       "        7.00774839e-02,  6.57959801e-02,  5.45368801e-02,  1.30178210e-01,\n",
       "        4.18426497e-02,  3.70032502e-02,  7.49413575e-02,  1.14168664e-01,\n",
       "       -2.99723569e-02,  1.28975202e-01,  7.09473368e-02,  1.06511409e-01,\n",
       "       -1.66185724e-01, -6.64257429e-03, -6.50458416e-02, -1.83430494e-01,\n",
       "       -4.95306497e-02,  3.08850355e-02,  6.98427673e-02,  9.53346881e-02,\n",
       "       -2.00798025e-03, -1.31289904e-02,  1.15194574e-01,  1.71837793e-01,\n",
       "       -9.97233143e-02, -1.58856323e-01,  1.04788605e-01,  5.26617590e-02,\n",
       "        5.95173042e-02, -1.72171398e-01, -4.32449181e-02,  4.89289539e-03,\n",
       "        4.84820092e-02,  3.77241981e-02, -4.93305737e-02,  2.28615370e-02,\n",
       "       -5.77504003e-02,  2.24173520e-01,  9.09722082e-02,  2.66931704e-02,\n",
       "        3.03098133e-02,  2.37464755e-01, -1.91281325e-01,  8.69887411e-02,\n",
       "       -3.37432054e-02,  4.18887386e-02,  4.33914325e-02, -1.61528051e-01,\n",
       "       -4.09801681e-02,  1.28872596e-02, -5.93491248e-03, -8.03951798e-02,\n",
       "       -6.24130809e-02, -1.61093723e-02, -1.55127936e-01, -1.06740243e-02,\n",
       "        1.19629934e-01, -4.33322917e-02,  8.89195444e-02, -1.55124367e-01,\n",
       "       -4.61924193e-03, -4.95426822e-02,  1.02296840e-01, -6.78383482e-02,\n",
       "       -5.66997377e-02,  8.56212934e-02, -1.04308038e-01, -7.08790741e-02,\n",
       "        3.53946629e-02, -1.28269039e-01, -7.84709890e-02,  2.46835154e-02,\n",
       "       -1.26507512e-01, -2.19374881e-01,  2.47130881e-02, -1.40868510e-02,\n",
       "       -4.41477505e-02,  1.89488708e-02, -5.14277550e-02,  1.39704112e-01,\n",
       "        1.95323948e-02, -1.16363734e-01, -1.35736098e-01, -5.90246638e-02,\n",
       "       -9.36279823e-02, -4.81015622e-02, -6.80179112e-02,  7.84793923e-02,\n",
       "        7.61577725e-02,  5.37218649e-03, -1.12045338e-02,  2.51665005e-02,\n",
       "       -1.14827858e-01,  1.04674695e-01, -6.30685126e-02,  3.77065246e-02,\n",
       "        8.48733603e-02,  7.71018704e-02, -7.25605913e-02, -6.43073889e-02,\n",
       "       -4.56252457e-03,  1.42465374e-01, -9.84959881e-02, -4.52886498e-02,\n",
       "       -9.86093338e-03, -6.39071194e-02,  8.65215276e-02, -2.41983017e-02,\n",
       "        1.43901619e-02, -2.60809483e-03, -1.22094302e-01, -2.49748273e-02,\n",
       "        2.37934915e-02,  1.30273765e-02,  1.10930315e-01,  1.16549370e-01,\n",
       "       -9.20083093e-02,  2.30728026e-02, -1.90542108e-01,  4.91595863e-02,\n",
       "       -7.90643891e-02,  1.63554886e-01, -6.97200720e-02, -1.45376843e-01,\n",
       "        4.68328557e-02,  1.27615805e-01, -1.88730404e-02, -1.24524250e-01,\n",
       "       -1.43966778e-01, -6.23737875e-02,  7.35904427e-02, -8.74415353e-02,\n",
       "       -7.60455401e-03, -2.46897150e-02,  1.72589007e-01, -4.35065172e-02,\n",
       "       -1.42309788e-01,  2.47467276e-02,  8.20728311e-02,  1.26972695e-01,\n",
       "        4.11883323e-02,  4.91593321e-02, -1.17113392e-01,  6.05016904e-02,\n",
       "        1.70443148e-02,  2.08573561e-01, -1.13420418e-01, -1.36014707e-01,\n",
       "       -2.48775747e-02,  1.15437269e-01, -2.11469771e-02,  1.10967986e-03,\n",
       "       -2.44576441e-01,  1.96643646e-01, -1.35071590e-01,  9.87521480e-03,\n",
       "       -1.06323105e-01,  3.87306032e-02,  2.62291944e-01, -4.95318694e-02,\n",
       "        4.37515201e-02,  1.28600274e-01, -6.70817459e-03, -4.68573560e-02,\n",
       "       -9.93766781e-02, -2.52898182e-01,  8.74581395e-03, -4.13386401e-02,\n",
       "        6.13155086e-02, -3.27679129e-02, -3.68743227e-02,  6.88781618e-02,\n",
       "        7.24336618e-02, -3.29771302e-02,  1.26862168e-01,  1.55842340e-01,\n",
       "       -3.13144107e-02,  2.26754770e-01,  1.34085911e-02, -6.79020436e-02,\n",
       "       -5.80479832e-02, -1.70848039e-01, -7.28284086e-02, -4.46342184e-02,\n",
       "        9.60529123e-02,  1.65016445e-01,  6.47902864e-02, -3.53772015e-02,\n",
       "       -7.44850921e-02,  5.23625685e-02, -6.00006513e-02,  1.32781377e-01,\n",
       "       -9.25783297e-02,  6.54801592e-02, -3.57095360e-02,  1.01887881e-02,\n",
       "       -1.34639818e-01, -1.75706339e-02, -1.00625982e-01,  5.04726230e-02,\n",
       "       -4.64937307e-02,  2.48679867e-02, -1.96150860e-02,  9.25987406e-03,\n",
       "        1.86634330e-01,  2.41506651e-02, -6.37542100e-03, -5.00564827e-02,\n",
       "        4.47265490e-02,  1.24653823e-01,  4.70523343e-03, -2.79925850e-02,\n",
       "       -1.69900072e-02, -2.63634196e-02, -1.61828104e-01, -1.33031958e-02,\n",
       "       -2.32846678e-02,  7.33181781e-02,  5.97412735e-02,  2.85192349e-02,\n",
       "        1.73201258e-02, -6.67341279e-03,  1.45956209e-01, -4.26569815e-02,\n",
       "       -2.44815047e-01, -1.76386656e-03,  3.17524552e-02, -1.63636072e-01,\n",
       "       -2.46536118e-02,  4.84230731e-02, -4.14191818e-02, -4.56437173e-02,\n",
       "        9.04607855e-02,  1.49028102e-01,  3.50937021e-02,  1.82694089e-02,\n",
       "       -6.76842379e-03,  1.27873045e-01, -7.71154366e-02, -1.04470711e-01,\n",
       "       -2.16110509e-02,  4.61479912e-02,  1.63346527e-01, -1.07257129e-01,\n",
       "        5.58811049e-02, -7.13670330e-02, -1.43857588e-01, -6.11656380e-02,\n",
       "       -1.64763646e-01, -1.28538081e-01, -8.36077889e-02,  8.39467904e-02,\n",
       "       -5.90501806e-04, -8.19721555e-04,  9.85343036e-02,  5.31110380e-02,\n",
       "       -1.01699643e-01,  1.57680083e-02,  4.18944927e-02,  5.80483809e-02,\n",
       "        1.88505344e-02,  1.47708984e-01,  2.43839511e-01, -6.01683498e-02,\n",
       "       -3.52093274e-02, -1.74040408e-01, -5.04341246e-02,  9.04749916e-02,\n",
       "        8.69655938e-02, -1.64602045e-01, -3.66046975e-02, -4.43912530e-02,\n",
       "        1.11199773e-01, -6.66942577e-02, -1.46603730e-01,  3.15239282e-02,\n",
       "        3.87078847e-02,  1.06072976e-01, -1.37920577e-02, -1.50426070e-02,\n",
       "       -1.67148878e-01, -2.55476180e-02,  5.05718891e-02, -9.00685819e-02,\n",
       "       -1.47927849e-01, -3.11096727e-02, -6.66921101e-02,  6.05881026e-02,\n",
       "        1.47541822e-01,  1.65050506e-01, -1.87705717e-03, -7.42063694e-02,\n",
       "        6.00960446e-02, -7.74912557e-02, -7.10814975e-02,  1.00138992e-01])"
      ]
     },
     "execution_count": 241,
     "metadata": {},
     "output_type": "execute_result"
    }
   ],
   "source": [
    "(xbar-np.mean(xbar))/np.mean(xbar)"
   ]
  },
  {
   "cell_type": "code",
   "execution_count": 202,
   "id": "232ba3b7-da9d-4ad5-897d-a918b8db326f",
   "metadata": {},
   "outputs": [
    {
     "ename": "SyntaxError",
     "evalue": "invalid syntax (2955237782.py, line 2)",
     "output_type": "error",
     "traceback": [
      "\u001b[0;36m  File \u001b[0;32m\"/var/folders/4v/p70mvxnd4nn9rmd418sq3_vm0000gn/T/ipykernel_32837/2955237782.py\"\u001b[0;36m, line \u001b[0;32m2\u001b[0m\n\u001b[0;31m    透過from scipy.stats import expon獲得指數分配相關的套件內容\\\u001b[0m\n\u001b[0m           ^\u001b[0m\n\u001b[0;31mSyntaxError\u001b[0m\u001b[0;31m:\u001b[0m invalid syntax\n"
     ]
    }
   ],
   "source": [
    "* histogram\n",
    "透過from scipy.stats import expon獲得指數分配相關的套件內容\\\n",
    "expon.rvs(loc=0, scale=1/10,size=1000)表示隨機抽取以下分配：\n",
    "$f(x)=\\frac{exp(\\frac{-x^2}{2})}{\\sqrt{2\\pi}}$"
   ]
  },
  {
   "cell_type": "markdown",
   "id": "b03648d1-43f0-4377-bd73-bb4bb03bb37c",
   "metadata": {},
   "source": [
    "## 疊圖"
   ]
  },
  {
   "cell_type": "markdown",
   "id": "4f8f2dd0-b8c5-42b6-888b-8cf4df5f92fa",
   "metadata": {},
   "source": [
    "## 應用：中央極限定理"
   ]
  },
  {
   "cell_type": "code",
   "execution_count": null,
   "id": "1abc6c01-e3ab-4928-98a8-367b63953ea2",
   "metadata": {},
   "outputs": [],
   "source": [
    "from scipy.stats import expon\n",
    "r = expon.rvs(size=1000)"
   ]
  },
  {
   "cell_type": "markdown",
   "id": "8b03c460-5070-4d7c-bc77-1c547c47e519",
   "metadata": {},
   "source": [
    "## 好看的主題"
   ]
  },
  {
   "cell_type": "code",
   "execution_count": null,
   "id": "897467bb-e507-4570-87b9-19bf73e3b6e3",
   "metadata": {},
   "outputs": [],
   "source": [
    "plt"
   ]
  },
  {
   "cell_type": "markdown",
   "id": "f929153f-9f90-48d3-bba9-7cbeae9c2017",
   "metadata": {},
   "source": [
    "## 圖的標示"
   ]
  },
  {
   "cell_type": "markdown",
   "id": "40a7ba51-001a-40e9-9797-233c26e480ed",
   "metadata": {},
   "source": []
  },
  {
   "cell_type": "code",
   "execution_count": null,
   "id": "ec98dfc7-e7a8-4a89-a569-fe4f54e56227",
   "metadata": {},
   "outputs": [],
   "source": [
    "rvs(loc=0, scale=1, size=1, random_state=None)"
   ]
  },
  {
   "cell_type": "code",
   "execution_count": null,
   "id": "75efd567-fd3a-4ee5-865a-9149bdf39f01",
   "metadata": {},
   "outputs": [],
   "source": [
    "# "
   ]
  },
  {
   "cell_type": "markdown",
   "id": "90f4a2b3-4a45-4a2e-91fb-d4b022cc92c2",
   "metadata": {},
   "source": [
    "# 互動式圖表"
   ]
  },
  {
   "cell_type": "code",
   "execution_count": null,
   "id": "4a2cbcfb-3f2e-477e-b9e2-acb1521ab1ae",
   "metadata": {},
   "outputs": [],
   "source": []
  }
 ],
 "metadata": {
  "kernelspec": {
   "display_name": "Python [conda env:py38_env]",
   "language": "python",
   "name": "conda-env-py38_env-py"
  },
  "language_info": {
   "codemirror_mode": {
    "name": "ipython",
    "version": 3
   },
   "file_extension": ".py",
   "mimetype": "text/x-python",
   "name": "python",
   "nbconvert_exporter": "python",
   "pygments_lexer": "ipython3",
   "version": "3.8.11"
  }
 },
 "nbformat": 4,
 "nbformat_minor": 5
}
