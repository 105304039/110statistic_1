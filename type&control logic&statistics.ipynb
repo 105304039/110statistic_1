{
 "cells": [
  {
   "cell_type": "markdown",
   "id": "2dac9717-6d7c-4c86-9d45-6ce5119607ef",
   "metadata": {
    "tags": []
   },
   "source": [
    "# 1. 基礎操作講解"
   ]
  },
  {
   "cell_type": "markdown",
   "id": "a80c75d7-2a4b-4c3f-83e0-0c61577e4692",
   "metadata": {},
   "source": [
    "## 1.1 jupyter的cell\n",
    "1. 每一個cell可以分別運行 (快捷鍵：ctrl+enter)\n",
    "2. 一個cell之中，若非print()，通常只會顯示最後的結果"
   ]
  },
  {
   "cell_type": "code",
   "execution_count": 252,
   "id": "13176303-07ef-45d9-abdc-7b559d90591b",
   "metadata": {},
   "outputs": [
    {
     "data": {
      "text/plain": [
       "7"
      ]
     },
     "execution_count": 252,
     "metadata": {},
     "output_type": "execute_result"
    }
   ],
   "source": [
    "3+5\n",
    "9-2"
   ]
  },
  {
   "cell_type": "code",
   "execution_count": 253,
   "id": "6153a943-48af-4e0e-898f-971f69ddaa4e",
   "metadata": {},
   "outputs": [
    {
     "name": "stdout",
     "output_type": "stream",
     "text": [
      "15\n",
      "4.5\n"
     ]
    }
   ],
   "source": [
    "print(3*5)\n",
    "print(9/2)"
   ]
  },
  {
   "cell_type": "markdown",
   "id": "4e5235c5-345f-4e05-956d-7df087e1437c",
   "metadata": {},
   "source": [
    "## 1.2 變數命名\n",
    "不為保留字、開頭不能是數字、大小寫是有差的"
   ]
  },
  {
   "cell_type": "code",
   "execution_count": 15,
   "id": "df0b1677-37c2-4b2e-982f-e07d58cb57a9",
   "metadata": {},
   "outputs": [
    {
     "name": "stdout",
     "output_type": "stream",
     "text": [
      "3 5\n"
     ]
    }
   ],
   "source": [
    "a, b = 3, 5\n",
    "print(a,b)"
   ]
  },
  {
   "cell_type": "code",
   "execution_count": 13,
   "id": "a5695066-56c8-4acb-aa01-62b829613913",
   "metadata": {},
   "outputs": [
    {
     "ename": "SyntaxError",
     "evalue": "invalid syntax (967448499.py, line 1)",
     "output_type": "error",
     "traceback": [
      "\u001b[0;36m  File \u001b[0;32m\"/var/folders/6k/wcq9yj69573fbpzqbkvx6q300000gn/T/ipykernel_69534/967448499.py\"\u001b[0;36m, line \u001b[0;32m1\u001b[0m\n\u001b[0;31m    and = 3\u001b[0m\n\u001b[0m    ^\u001b[0m\n\u001b[0;31mSyntaxError\u001b[0m\u001b[0;31m:\u001b[0m invalid syntax\n"
     ]
    }
   ],
   "source": [
    "# 變數名稱不可以是「保留字」\n",
    "and = 3"
   ]
  },
  {
   "cell_type": "code",
   "execution_count": 16,
   "id": "33d8bfb7-c575-4096-ab35-0daea84217e1",
   "metadata": {},
   "outputs": [
    {
     "ename": "SyntaxError",
     "evalue": "invalid syntax (2510859924.py, line 1)",
     "output_type": "error",
     "traceback": [
      "\u001b[0;36m  File \u001b[0;32m\"/var/folders/6k/wcq9yj69573fbpzqbkvx6q300000gn/T/ipykernel_69534/2510859924.py\"\u001b[0;36m, line \u001b[0;32m1\u001b[0m\n\u001b[0;31m    3a = 5\u001b[0m\n\u001b[0m     ^\u001b[0m\n\u001b[0;31mSyntaxError\u001b[0m\u001b[0;31m:\u001b[0m invalid syntax\n"
     ]
    }
   ],
   "source": [
    "# 開頭不能是數字\n",
    "3a = 5"
   ]
  },
  {
   "cell_type": "code",
   "execution_count": 20,
   "id": "0d13e602-ccc1-455a-b44a-86f94646f9a1",
   "metadata": {},
   "outputs": [
    {
     "name": "stdout",
     "output_type": "stream",
     "text": [
      "3 7\n"
     ]
    }
   ],
   "source": [
    "# 大小寫是有差的\n",
    "A = 7\n",
    "print(a,A)"
   ]
  },
  {
   "cell_type": "code",
   "execution_count": 28,
   "id": "fc5e7fcb-59aa-4d18-8ec1-45bca01f060a",
   "metadata": {},
   "outputs": [
    {
     "name": "stdout",
     "output_type": "stream",
     "text": [
      "3\n",
      "13\n"
     ]
    }
   ],
   "source": [
    "# 變數賦值：overwrite\n",
    "print(a)\n",
    "a = 13\n",
    "print(a)"
   ]
  },
  {
   "cell_type": "markdown",
   "id": "5e87b33d-06cd-4e7b-a868-c1e330eadcb3",
   "metadata": {},
   "source": [
    "## 1.3 import怎麼用？ \n",
    "python有許多open source的套件可以用，經常要引進<br>\n",
    "如果import失敗的話會出現ModuleNotFoundError，需要去terminal下指令conda install 某套件"
   ]
  },
  {
   "cell_type": "code",
   "execution_count": 33,
   "id": "80d4c931-6c32-4150-8089-7b7b9da64adb",
   "metadata": {},
   "outputs": [
    {
     "ename": "ModuleNotFoundError",
     "evalue": "No module named 'xgboost'",
     "output_type": "error",
     "traceback": [
      "\u001b[0;31m---------------------------------------------------------------------------\u001b[0m",
      "\u001b[0;31mModuleNotFoundError\u001b[0m                       Traceback (most recent call last)",
      "\u001b[0;32m/var/folders/6k/wcq9yj69573fbpzqbkvx6q300000gn/T/ipykernel_69534/2457254733.py\u001b[0m in \u001b[0;36m<module>\u001b[0;34m\u001b[0m\n\u001b[0;32m----> 1\u001b[0;31m \u001b[0;32mimport\u001b[0m \u001b[0mxgboost\u001b[0m\u001b[0;34m\u001b[0m\u001b[0;34m\u001b[0m\u001b[0m\n\u001b[0m",
      "\u001b[0;31mModuleNotFoundError\u001b[0m: No module named 'xgboost'"
     ]
    }
   ],
   "source": [
    "import xgboost"
   ]
  },
  {
   "cell_type": "code",
   "execution_count": null,
   "id": "1d1188ac-5349-42d7-858e-0de51984048e",
   "metadata": {},
   "outputs": [],
   "source": []
  },
  {
   "cell_type": "code",
   "execution_count": 230,
   "id": "8f0098fa-44f3-4c78-83de-948896474513",
   "metadata": {},
   "outputs": [
    {
     "data": {
      "image/png": "[encoded data removed]",
      "text/plain": [
       "<Figure size 432x288 with 1 Axes>"
      ]
     },
     "metadata": {
      "needs_background": "light"
     },
     "output_type": "display_data"
    }
   ],
   "source": [
    "from matplotlib import pyplot \n",
    "\n",
    "# 折線圖\n",
    "pyplot.plot([3,2],[4,1])  # 畫出 (x,y) 分別為 (3,4), (2,1) 兩點一線\n",
    "pyplot.show()"
   ]
  },
  {
   "cell_type": "code",
   "execution_count": 24,
   "id": "81be9afb-bc20-49a1-af40-da82c4d3c37e",
   "metadata": {},
   "outputs": [
    {
     "data": {
      "image/png": "[encoded data removed]",
      "text/plain": [
       "<Figure size 432x288 with 1 Axes>"
      ]
     },
     "metadata": {
      "needs_background": "light"
     },
     "output_type": "display_data"
    }
   ],
   "source": [
    "import matplotlib.pyplot as plt\n",
    "plt.plot([3,2],[4,1])  # 畫出 (x,y) 分別為 (3,4), (2,1) 兩點一線\n",
    "plt.show()"
   ]
  },
  {
   "cell_type": "markdown",
   "id": "872a3770-9673-46a7-8c94-2a901a918f26",
   "metadata": {},
   "source": [
    "# 2. 資料型態\n",
    "基本資料型態：int float string bool 可以互相轉換！<br>\n",
    "存儲多筆：list, array, dataframe<br>\n",
    "array裡面的元素是同一類型，list卻不必"
   ]
  },
  {
   "cell_type": "markdown",
   "id": "3db12d46-ce41-43aa-85d0-92961d4b195c",
   "metadata": {},
   "source": [
    "## 2.1 基本資料型態\n",
    "整數(int)、浮點數(float)、字串(string)、布林(bool)<br>\n",
    "可以用type()訪問資料型態。"
   ]
  },
  {
   "cell_type": "code",
   "execution_count": null,
   "id": "e5fd0cad-b1a1-43f8-8fa2-1ea9fa703ba4",
   "metadata": {},
   "outputs": [
    {
     "name": "stdout",
     "output_type": "stream",
     "text": [
      "<class 'int'> <class 'float'> <class 'float'> <class 'str'> <class 'str'> <class 'bool'> <class 'bool'>\n"
     ]
    }
   ],
   "source": [
    "print(type(1),      # 整數\n",
    "      type(3.6436), # 浮點數\n",
    "      type(1E3),    # 浮點數\n",
    "      type(\"哈囉~\"), # 字串，用雙引號\n",
    "      type('哈囉~'), # 字串，用單引號\n",
    "      type(True),   # 布林\n",
    "      type(False),  # 布林\n",
    "      sep = \"\\n\")   # 表示"
   ]
  },
  {
   "cell_type": "code",
   "execution_count": 44,
   "id": "dc3327e7-c375-4bd0-8447-b370970f46e0",
   "metadata": {},
   "outputs": [
    {
     "data": {
      "text/plain": [
       "\u001b[0;31mDocstring:\u001b[0m\n",
       "print(value, ..., sep=' ', end='\\n', file=sys.stdout, flush=False)\n",
       "\n",
       "Prints the values to a stream, or to sys.stdout by default.\n",
       "Optional keyword arguments:\n",
       "file:  a file-like object (stream); defaults to the current sys.stdout.\n",
       "sep:   string inserted between values, default a space.\n",
       "end:   string appended after the last value, default a newline.\n",
       "flush: whether to forcibly flush the stream.\n",
       "\u001b[0;31mType:\u001b[0m      builtin_function_or_method\n"
      ]
     },
     "metadata": {},
     "output_type": "display_data"
    }
   ],
   "source": [
    "# 趁機補充：可以在某method前打上 ? 詢問他有的attributes\n",
    "#         在jupyter lab中可以將鼠標停在某method前面，按shift+tab，也可以訪問他有的attributes\n",
    "\n",
    "?print"
   ]
  },
  {
   "cell_type": "code",
   "execution_count": 46,
   "id": "cb452b27-08d1-46f8-a4b1-b8b26f7b5376",
   "metadata": {},
   "outputs": [
    {
     "name": "stdout",
     "output_type": "stream",
     "text": [
      "<class 'str'>\n",
      "<class 'int'>\n"
     ]
    }
   ],
   "source": [
    "# 資料型態是可以互相轉換的：\n",
    "print(type(str(3)))  # 把int變string\n",
    "print(type(int(\"7\"))) # 把string變int"
   ]
  },
  {
   "cell_type": "markdown",
   "id": "6aed5dba-e4df-49d7-9d2b-50fba9c3f621",
   "metadata": {},
   "source": [
    "## 2.2 多筆資料儲存\n",
    "* set、tuple、dictionary、list、numpy.array...etc.<br>\n",
    "這裡只介紹list跟array、dictionary"
   ]
  },
  {
   "cell_type": "code",
   "execution_count": 235,
   "id": "29310065-971a-40df-b50f-b822d123693e",
   "metadata": {},
   "outputs": [
    {
     "name": "stdout",
     "output_type": "stream",
     "text": [
      "<class 'int'>\n",
      "<class 'float'>\n",
      "<class 'str'>\n",
      "<class 'bool'>\n"
     ]
    }
   ],
   "source": [
    "# list是python內建的陣列，內容可以是不同的資料型態\n",
    "\n",
    "list1 = [1,1E3,\"哈囉\",True]\n",
    "for i in list1:\n",
    "    print(type(i))"
   ]
  },
  {
   "cell_type": "code",
   "execution_count": 255,
   "id": "b7ddf429-a9cc-4899-a7c4-119540ed7648",
   "metadata": {},
   "outputs": [
    {
     "data": {
      "text/plain": [
       "1"
      ]
     },
     "execution_count": 255,
     "metadata": {},
     "output_type": "execute_result"
    }
   ],
   "source": [
    "list1[0]"
   ]
  },
  {
   "cell_type": "code",
   "execution_count": 237,
   "id": "fd13ed8c-f8d1-4a20-807e-9620bab06e60",
   "metadata": {},
   "outputs": [
    {
     "name": "stdout",
     "output_type": "stream",
     "text": [
      "<class 'numpy.str_'>\n",
      "<class 'numpy.str_'>\n",
      "<class 'numpy.str_'>\n",
      "<class 'numpy.str_'>\n"
     ]
    }
   ],
   "source": [
    "# array是屬於套件numpy裡頭提供的一種陣列儲存，array裡頭的資料都會是同一種資料型態\n",
    "\n",
    "import numpy as np\n",
    "array1 = np.array([1,1E3,\"哈囉\",True]) \n",
    "\n",
    "for i in array1:\n",
    "    print(type(i))"
   ]
  },
  {
   "cell_type": "code",
   "execution_count": 238,
   "id": "32a0f488-f724-4e6b-b705-ae82057f08dc",
   "metadata": {},
   "outputs": [
    {
     "data": {
      "text/plain": [
       "'哈囉'"
      ]
     },
     "execution_count": 238,
     "metadata": {},
     "output_type": "execute_result"
    }
   ],
   "source": [
    "array1[2]"
   ]
  },
  {
   "cell_type": "code",
   "execution_count": 231,
   "id": "70da6d1a-3b9e-4e66-892a-6aa65e8ae3cf",
   "metadata": {},
   "outputs": [
    {
     "data": {
      "text/plain": [
       "'Ben'"
      ]
     },
     "execution_count": 231,
     "metadata": {},
     "output_type": "execute_result"
    }
   ],
   "source": [
    "student = {16:\"Amy\",\n",
    "          20:\"Ben\",\n",
    "          1:\"Carol\"}\n",
    "student[20]"
   ]
  },
  {
   "cell_type": "markdown",
   "id": "376de9bd-9ef2-498d-8ea6-962474865e5b",
   "metadata": {},
   "source": [
    "* array的多維度可以用.shape訪問"
   ]
  },
  {
   "cell_type": "code",
   "execution_count": 69,
   "id": "04bb5a79-5a6c-4131-90f0-7bd70cfe0c3d",
   "metadata": {},
   "outputs": [
    {
     "data": {
      "text/plain": [
       "(2, 4)"
      ]
     },
     "execution_count": 69,
     "metadata": {},
     "output_type": "execute_result"
    }
   ],
   "source": [
    "x = np.array([[4, 9, 2, 10],\n",
    "              [6, 9, 7, 12]])\n",
    "x.shape"
   ]
  },
  {
   "cell_type": "markdown",
   "id": "e075c159-d29a-4ad0-8df9-5f239c1205d4",
   "metadata": {},
   "source": [
    "# 3. 邏輯運用"
   ]
  },
  {
   "cell_type": "markdown",
   "id": "f2a4024f-02f2-4556-9a19-6057f59fcc77",
   "metadata": {
    "tags": []
   },
   "source": [
    "## 3.1 if elif else\n",
    "```\n",
    "# 若達成條件A就執行甲動作，否則執行乙動作\n",
    "if 條件A:         \n",
    "    執行甲動作\n",
    "else:\n",
    "    執行乙動作\n",
    "```\n",
    "使用時機：有條件需要判斷，並採取相應措施。<br>\n",
    "<br>\n",
    "【例一】<br>\n",
    ">當$ H_0: \\mu = 0 $，若該資料所對應的p-value < 0.05時印出拒絕虛無假設，否則接受虛無假設。<br>\n",
    "\n",
    "```\n",
    "(將統計檢定的p-value指定給變數「p_value」後...)\n",
    "if p_value < 0.05:\n",
    "    print(\"拒絕虛無假設\")\n",
    "else:\n",
    "    print(\"接受虛無假設\")\n",
    "```\n",
    "【例二（下方程式）】<br>\n",
    ">A大學的等級評價有ABC三等，若分數超過（包含）80分者為A等，未滿80分但超過70分者為B等，70分（包含）以下者得C。"
   ]
  },
  {
   "cell_type": "code",
   "execution_count": 256,
   "id": "667be9fd-1efd-4bc5-b12f-57f8119d1082",
   "metadata": {},
   "outputs": [
    {
     "name": "stdout",
     "output_type": "stream",
     "text": [
      "B\n"
     ]
    }
   ],
   "source": [
    "score = 75\n",
    "if score>=80:\n",
    "    print(\"A\")\n",
    "elif score>70:\n",
    "    print(\"B\")\n",
    "else:\n",
    "    print(\"C\")"
   ]
  },
  {
   "cell_type": "markdown",
   "id": "b8224d05-c388-44f6-831e-8286fbd585d8",
   "metadata": {},
   "source": [
    "## 3.2 for loop\n",
    "```\n",
    "# 指定對象中有多個元素，對每個元素都執行甲動作\n",
    "for 元素 in 指定對象們:         \n",
    "    對元素執行甲動作\n",
    "```\n",
    "使用時機：需要對指定對象們逐個執行相同任務時。<br>\n",
    "<br>\n",
    "【例一】<br>\n",
    "> 原料A、B、C的單價分別為20,30,10，今年欲購買的數量分別為100,120,80，求三項原料分別預計花費的購買成本。<br>\n",
    "Hint: range(X)代表製造出0,1,...,X-1的數值，所以i會在每一圈當中，一次成為0,1,...,X-1。"
   ]
  },
  {
   "cell_type": "code",
   "execution_count": 5,
   "id": "d367d74a-63eb-4450-b931-783162e362b7",
   "metadata": {},
   "outputs": [
    {
     "name": "stdout",
     "output_type": "stream",
     "text": [
      "2000\n",
      "3600\n",
      "800\n"
     ]
    }
   ],
   "source": [
    "price = [20,30,10]\n",
    "quantity = [100,120,80]\n",
    "for j in range(3):    \n",
    "    print(price[j]*quantity[j])"
   ]
  },
  {
   "cell_type": "markdown",
   "id": "20310479-fa16-492c-a9a6-ad9cf91086b9",
   "metadata": {},
   "source": [
    "【例二】<br>\n",
    "> 已知某母體的平均數為3，找出樣本 = [9,2,7,31,20,-5] 之中高於平均數者。"
   ]
  },
  {
   "cell_type": "code",
   "execution_count": 247,
   "id": "1eb730ab-f1cb-417e-a5c8-7c10159ce2a2",
   "metadata": {},
   "outputs": [
    {
     "name": "stdout",
     "output_type": "stream",
     "text": [
      "9\n",
      "7\n",
      "31\n",
      "20\n"
     ]
    }
   ],
   "source": [
    "mean = 3\n",
    "for a in [9,2,7,31,20,-5]:\n",
    "    if a > mean:\n",
    "        print(a)"
   ]
  },
  {
   "cell_type": "markdown",
   "id": "6c132971-b142-4348-803e-d764fa2d008f",
   "metadata": {},
   "source": [
    "## 3.3 while loop\n",
    "```\n",
    "# 只要符合某條件，就一直重複甲動作，直到不符合某條件時。\n",
    "while 某條件:         \n",
    "    執行甲動作\n",
    "```\n",
    "使用時機：需要重覆某任務直至某條件達成或未達成，與for loop不同的是，未知總圈數會是多少，要達到或未達到某條件才停止。<br>\n",
    "<br>\n",
    "【例一】<br>\n",
    "> 某部門希望購買多種機台，但預算有限，因此該部門排序了購買意願，若尚有預算再購買下一機台，假設希望購買的機台依序為A、B、C、D，單價分別為100,95,10,99（單位:千元）。在盡量買進所有機台的情況下，求預算為210（千元）時，會剩下多少預算（千元）？"
   ]
  },
  {
   "cell_type": "code",
   "execution_count": 4,
   "id": "c865b657-e6c4-40ee-898e-b3c281648fcd",
   "metadata": {},
   "outputs": [
    {
     "name": "stdout",
     "output_type": "stream",
     "text": [
      "5\n"
     ]
    }
   ],
   "source": [
    "price = [100,95,10,99]\n",
    "money = 210\n",
    "i = 0\n",
    "while money-price[i]>=0:    # 當購買下一個機台會有剩餘預算時，\n",
    "    money = money-price[i]  # 執行購買計劃\n",
    "    i = i+1                 # i幫助紀錄想購買的機台順序\n",
    "print(money)"
   ]
  },
  {
   "cell_type": "markdown",
   "id": "37b3df6f-7252-49dd-82e8-bc238dc7825c",
   "metadata": {},
   "source": [
    "【例二（下方程式）】<br>\n",
    "> 一會計部門期末希望對某存貨進行抽樣盤點，確認該存貨是否存在，在訂定抽樣數目後，隨機決定從某個樣本編號開始，依照樣本編號每間隔兩個樣本抽取一次（假設從編號1開始抽，接著下個樣本為編號4，再來是編號7...），即進行系統性抽樣，直到抽滿所需要的樣本個數。令初始點為編號6的樣本，欲抽出總共十個樣本，求所有被抽取的樣本編號。<br>\n",
    "Hint1: 若要在list往後新增一值，可使用.append()，如A = [1,6]，而A.append(7)會使A = [1,6,7]<br>\n",
    "Hint2: len()可以獲得list的長度，如A = [1,6]，len(A)=2"
   ]
  },
  {
   "cell_type": "code",
   "execution_count": 1,
   "id": "bc7e2994-9f01-42ce-9a1e-431f4502739e",
   "metadata": {},
   "outputs": [],
   "source": [
    "counts = 10\n",
    "start = 6\n",
    "samples = [6]\n",
    "while len(samples)< counts:\n",
    "    start = start+3      # 也可以寫 start+=3\n",
    "    samples.append(start)"
   ]
  },
  {
   "cell_type": "code",
   "execution_count": 2,
   "id": "9955db06-271f-485b-bfca-a6a8747d9290",
   "metadata": {},
   "outputs": [
    {
     "data": {
      "text/plain": [
       "[6, 9, 12, 15, 18, 21, 24, 27, 30, 33]"
      ]
     },
     "execution_count": 2,
     "metadata": {},
     "output_type": "execute_result"
    }
   ],
   "source": [
    "samples"
   ]
  },
  {
   "cell_type": "code",
   "execution_count": 6,
   "id": "b44586da-ea07-404b-9edf-71c3d4041ba5",
   "metadata": {},
   "outputs": [
    {
     "data": {
      "text/plain": [
       "10"
      ]
     },
     "execution_count": 6,
     "metadata": {},
     "output_type": "execute_result"
    }
   ],
   "source": [
    "len(samples)"
   ]
  },
  {
   "cell_type": "markdown",
   "id": "bf34728d-c447-49c2-a143-935f6f38a840",
   "metadata": {},
   "source": [
    "# 4. 基礎敘述統計"
   ]
  },
  {
   "cell_type": "markdown",
   "id": "e692425f-5858-4f9b-88ce-07ed0e0aa43d",
   "metadata": {},
   "source": [
    "## 4.1 內建"
   ]
  },
  {
   "cell_type": "code",
   "execution_count": 61,
   "id": "d01fd519-4251-4ff0-b571-40fe7b3d2acb",
   "metadata": {},
   "outputs": [
    {
     "name": "stdout",
     "output_type": "stream",
     "text": [
      "-10\n",
      "9\n"
     ]
    }
   ],
   "source": [
    "list1 = [3,6,9,-10,-1]\n",
    "print(min(list1))\n",
    "print(max(list1))"
   ]
  },
  {
   "cell_type": "markdown",
   "id": "0e41f308-7ab1-49db-8a57-3aae2eb6837a",
   "metadata": {},
   "source": [
    "## 4.2 以numpy(np)實踐"
   ]
  },
  {
   "cell_type": "code",
   "execution_count": 68,
   "id": "78f7f44e-aa8b-4706-8f91-27146669aa2c",
   "metadata": {},
   "outputs": [
    {
     "name": "stdout",
     "output_type": "stream",
     "text": [
      "The mean is 6.25\n",
      "The median is 6.5\n",
      "The 75-th percentile is 7.5\n",
      "The variance is 4.6875\n",
      "The standard deviation is 2.165063509461097\n",
      "驗算var開根號後為std:  2.165063509461097\n"
     ]
    }
   ],
   "source": [
    "list2 = [3,6,9,7]\n",
    "print(\"The mean is\",np.mean(list2))\n",
    "print(\"The median is\",np.median(list2))\n",
    "print(\"The 75-th percentile is\",np.percentile(list2, 75))\n",
    "print(\"The variance is\",np.var(list2))\n",
    "print(\"The standard deviation is\",np.std(list2))\n",
    "print(\"驗算var開根號後為std: \",np.sqrt(np.var(list2)))"
   ]
  },
  {
   "cell_type": "markdown",
   "id": "639e4df8-8f9f-44cc-ac87-f0c341e4b8e4",
   "metadata": {},
   "source": [
    "* outlier有哪些？"
   ]
  },
  {
   "cell_type": "code",
   "execution_count": 258,
   "id": "09b0543a-6c90-43c0-af29-b2e802117ba2",
   "metadata": {},
   "outputs": [],
   "source": [
    "list3 = [0, -5, 6, 39, 12, -33, 7, 9, 90, -2]\n",
    "Q3 = np.percentile(list3, 75)\n",
    "Q1 = np.percentile(list3, 25)\n",
    "\n",
    "outliers = []\n",
    "for i in list3:\n",
    "    if i > Q3+1.5*(Q3-Q1) or i < Q1 -1.5*(Q3-Q1):\n",
    "        outliers.append(i)"
   ]
  },
  {
   "cell_type": "code",
   "execution_count": 259,
   "id": "ef620b6d-76c0-4ce8-b6b4-84163592097b",
   "metadata": {},
   "outputs": [
    {
     "data": {
      "text/plain": [
       "[39, -33, 90]"
      ]
     },
     "execution_count": 259,
     "metadata": {},
     "output_type": "execute_result"
    }
   ],
   "source": [
    "outliers"
   ]
  },
  {
   "cell_type": "code",
   "execution_count": 79,
   "id": "d447c7f7-b58f-4ec4-9c66-7d875e16a6a5",
   "metadata": {},
   "outputs": [
    {
     "data": {
      "text/plain": [
       "[39, -33, 90]"
      ]
     },
     "execution_count": 79,
     "metadata": {},
     "output_type": "execute_result"
    }
   ],
   "source": [
    "# FYI for迴圈的簡寫\n",
    "outliers = [ i for i in list3  if i > 1.5*(Q3-Q1) or i < -1.5*(Q3-Q1)]\n",
    "outliers"
   ]
  }
 ],
 "metadata": {
  "kernelspec": {
   "display_name": "Python [conda env:py38_env]",
   "language": "python",
   "name": "conda-env-py38_env-py"
  },
  "language_info": {
   "codemirror_mode": {
    "name": "ipython",
    "version": 3
   },
   "file_extension": ".py",
   "mimetype": "text/x-python",
   "name": "python",
   "nbconvert_exporter": "python",
   "pygments_lexer": "ipython3",
   "version": "3.8.12"
  },
  "toc-autonumbering": false
 },
 "nbformat": 4,
 "nbformat_minor": 5
}
