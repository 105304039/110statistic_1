{
 "cells": [
  {
   "cell_type": "code",
   "execution_count": 6,
   "metadata": {},
   "outputs": [],
   "source": [
    "from sklearn import datasets\n",
    "import pandas as pd\n",
    "import numpy as np\n",
    "import scipy.stats as st \n",
    "import matplotlib.pyplot as plt"
   ]
  },
  {
   "cell_type": "code",
   "execution_count": 7,
   "metadata": {},
   "outputs": [],
   "source": [
    "iris = datasets.load_iris()"
   ]
  },
  {
   "cell_type": "code",
   "execution_count": null,
   "metadata": {},
   "outputs": [],
   "source": [
    "iris.keys()"
   ]
  },
  {
   "cell_type": "code",
   "execution_count": null,
   "metadata": {},
   "outputs": [],
   "source": [
    "print(iris[\"DESCR\"])"
   ]
  },
  {
   "cell_type": "code",
   "execution_count": null,
   "metadata": {},
   "outputs": [],
   "source": [
    "iris[\"target_names\"]"
   ]
  },
  {
   "cell_type": "code",
   "execution_count": null,
   "metadata": {},
   "outputs": [],
   "source": [
    "iris[\"feature_names\"]"
   ]
  },
  {
   "cell_type": "code",
   "execution_count": null,
   "metadata": {},
   "outputs": [],
   "source": [
    "iris[\"data\"].shape"
   ]
  },
  {
   "cell_type": "code",
   "execution_count": 9,
   "metadata": {},
   "outputs": [],
   "source": [
    "D = {}\n",
    "for k,v in zip(iris[\"feature_names\"],iris[\"data\"].T):\n",
    "    D[k]=v\n",
    "data = pd.DataFrame(D)"
   ]
  },
  {
   "cell_type": "code",
   "execution_count": 10,
   "metadata": {},
   "outputs": [
    {
     "data": {
      "text/html": [
       "<div>\n",
       "<style scoped>\n",
       "    .dataframe tbody tr th:only-of-type {\n",
       "        vertical-align: middle;\n",
       "    }\n",
       "\n",
       "    .dataframe tbody tr th {\n",
       "        vertical-align: top;\n",
       "    }\n",
       "\n",
       "    .dataframe thead th {\n",
       "        text-align: right;\n",
       "    }\n",
       "</style>\n",
       "<table border=\"1\" class=\"dataframe\">\n",
       "  <thead>\n",
       "    <tr style=\"text-align: right;\">\n",
       "      <th></th>\n",
       "      <th>sepal length (cm)</th>\n",
       "      <th>sepal width (cm)</th>\n",
       "      <th>petal length (cm)</th>\n",
       "      <th>petal width (cm)</th>\n",
       "      <th>target</th>\n",
       "    </tr>\n",
       "  </thead>\n",
       "  <tbody>\n",
       "    <tr>\n",
       "      <th>0</th>\n",
       "      <td>5.1</td>\n",
       "      <td>3.5</td>\n",
       "      <td>1.4</td>\n",
       "      <td>0.2</td>\n",
       "      <td>setosa</td>\n",
       "    </tr>\n",
       "    <tr>\n",
       "      <th>1</th>\n",
       "      <td>4.9</td>\n",
       "      <td>3.0</td>\n",
       "      <td>1.4</td>\n",
       "      <td>0.2</td>\n",
       "      <td>setosa</td>\n",
       "    </tr>\n",
       "    <tr>\n",
       "      <th>2</th>\n",
       "      <td>4.7</td>\n",
       "      <td>3.2</td>\n",
       "      <td>1.3</td>\n",
       "      <td>0.2</td>\n",
       "      <td>setosa</td>\n",
       "    </tr>\n",
       "    <tr>\n",
       "      <th>3</th>\n",
       "      <td>4.6</td>\n",
       "      <td>3.1</td>\n",
       "      <td>1.5</td>\n",
       "      <td>0.2</td>\n",
       "      <td>setosa</td>\n",
       "    </tr>\n",
       "    <tr>\n",
       "      <th>4</th>\n",
       "      <td>5.0</td>\n",
       "      <td>3.6</td>\n",
       "      <td>1.4</td>\n",
       "      <td>0.2</td>\n",
       "      <td>setosa</td>\n",
       "    </tr>\n",
       "  </tbody>\n",
       "</table>\n",
       "</div>"
      ],
      "text/plain": [
       "   sepal length (cm)  sepal width (cm)  petal length (cm)  petal width (cm)  \\\n",
       "0                5.1               3.5                1.4               0.2   \n",
       "1                4.9               3.0                1.4               0.2   \n",
       "2                4.7               3.2                1.3               0.2   \n",
       "3                4.6               3.1                1.5               0.2   \n",
       "4                5.0               3.6                1.4               0.2   \n",
       "\n",
       "   target  \n",
       "0  setosa  \n",
       "1  setosa  \n",
       "2  setosa  \n",
       "3  setosa  \n",
       "4  setosa  "
      ]
     },
     "execution_count": 10,
     "metadata": {},
     "output_type": "execute_result"
    }
   ],
   "source": [
    "data[\"target\"] = [iris[\"target_names\"][d] for d in iris[\"target\"]]\n",
    "data.head()"
   ]
  },
  {
   "cell_type": "markdown",
   "metadata": {},
   "source": [
    "# 隨機數字"
   ]
  },
  {
   "cell_type": "markdown",
   "metadata": {},
   "source": [
    "* 指定分配-常態分配"
   ]
  },
  {
   "cell_type": "code",
   "execution_count": null,
   "metadata": {},
   "outputs": [],
   "source": [
    "import scipy.stats as st \n",
    "st.norm.rvs(loc = 0,     # 平均數\n",
    "            scale = 0.1, # 標準差\n",
    "            size =10)    # 生成筆數"
   ]
  },
  {
   "cell_type": "code",
   "execution_count": null,
   "metadata": {},
   "outputs": [],
   "source": [
    "st.norm.ppf()"
   ]
  },
  {
   "cell_type": "code",
   "execution_count": null,
   "metadata": {},
   "outputs": [],
   "source": [
    "st.norm.rvs(loc = 3,\n",
    "            scale = 10,\n",
    "            size=(2,2)) "
   ]
  },
  {
   "cell_type": "markdown",
   "metadata": {},
   "source": [
    "* 其他所有提供的分配\n",
    "https://docs.scipy.org/doc/scipy/reference/stats.html<br>\n",
    "例如：st.t.rvs(df, loc=0, scale=1, size=1, random_state=None)"
   ]
  },
  {
   "cell_type": "markdown",
   "metadata": {},
   "source": [
    "# 查表"
   ]
  },
  {
   "cell_type": "markdown",
   "metadata": {},
   "source": [
    "已知Z分配的pdf為：\n",
    "$f(x)=\\frac{exp(\\frac{-x^2}{2})}{\\sqrt{2\\pi}}$\n",
    "* 求$P(x_0)$"
   ]
  },
  {
   "cell_type": "code",
   "execution_count": null,
   "metadata": {},
   "outputs": [],
   "source": [
    "# 在 Normal(mean = 0, s.d. = 1)之中，x=0的機率為:\n",
    "print(\"scipy的運算結果為：\",st.norm.pdf(0,loc = 0,scale = 1))\n",
    "print(\"照數學式驗算結果為：\",1/((2*np.pi)**(1/2)))"
   ]
  },
  {
   "cell_type": "code",
   "execution_count": null,
   "metadata": {},
   "outputs": [],
   "source": [
    "# 在 Normal(mean = 0, s.d. = 1)之中，x=1的機率為:\n",
    "print(\"scipy的運算結果為：\",st.norm.pdf(1,loc = 0,scale = 1))\n",
    "print(\"照數學式驗算結果為：\",np.exp(-1/2)/((2*np.pi)**(1/2)))"
   ]
  },
  {
   "cell_type": "markdown",
   "metadata": {},
   "source": [
    "* 求$P(X< x_0)$"
   ]
  },
  {
   "cell_type": "code",
   "execution_count": null,
   "metadata": {},
   "outputs": [],
   "source": [
    "st.norm.cdf(0,loc=0,scale=1) "
   ]
  },
  {
   "cell_type": "code",
   "execution_count": null,
   "metadata": {},
   "outputs": [],
   "source": [
    "# 驗證empirical rule\n",
    "\n",
    "print(\"左右3個標準差內：\",st.norm.cdf(3,loc=0,scale=1) - st.norm.cdf(-3,loc=0,scale=1))\n",
    "print(\"左右2個標準差內：\",st.norm.cdf(2,loc=0,scale=1) - st.norm.cdf(-2,loc=0,scale=1))\n",
    "print(\"左右1個標準差內：\",st.norm.cdf(1,loc=0,scale=1) - st.norm.cdf(-1,loc=0,scale=1))"
   ]
  },
  {
   "cell_type": "markdown",
   "metadata": {},
   "source": [
    "* 得$P(X< x_0)$，求$x_0$？（已知cdf及其分配）<br>\n",
    "ppf是cdf的反函數"
   ]
  },
  {
   "cell_type": "markdown",
   "metadata": {},
   "source": [
    "$\\Phi(0.5)$"
   ]
  },
  {
   "cell_type": "code",
   "execution_count": null,
   "metadata": {},
   "outputs": [],
   "source": [
    "st.norm.ppf(0.5, loc=0, scale=1)"
   ]
  },
  {
   "cell_type": "markdown",
   "metadata": {},
   "source": [
    "$\\Phi(0.975)$"
   ]
  },
  {
   "cell_type": "code",
   "execution_count": null,
   "metadata": {},
   "outputs": [],
   "source": [
    "st.norm.ppf(0.975, loc=0, scale=1)"
   ]
  },
  {
   "cell_type": "markdown",
   "metadata": {},
   "source": [
    "$\\Phi(0.995)$"
   ]
  },
  {
   "cell_type": "code",
   "execution_count": null,
   "metadata": {},
   "outputs": [],
   "source": [
    "st.norm.ppf(0.995, loc=0, scale=1)"
   ]
  },
  {
   "cell_type": "markdown",
   "metadata": {},
   "source": [
    "# 繪圖"
   ]
  },
  {
   "cell_type": "markdown",
   "metadata": {},
   "source": [
    "* 添加字體\n",
    "\n",
    "<code>\n",
    "import matplotlib.font_manager as font_manager\n",
    "import matplotlib.pyplot as plt\n",
    "font_path = '/System/Library/Fonts/STHeiti Light.ttc'  # Your font path goes here\n",
    "font_manager.fontManager.addfont(font_path)\n",
    "prop = font_manager.FontProperties(fname=font_path)\n",
    "</code>\n",
    "\n",
    "* 驗證有沒有存在？\n",
    "\n",
    "<code>\n",
    "la = matplotlib.font_manager.FontManager()\n",
    "lu = matplotlib.font_manager.FontProperties(family = 'Heiti TC')  # prop.get_name()為'Heiti TC'\n",
    "la.findfont(lu)  #'/System/Library/Fonts/STHeiti Medium.ttc'\n",
    "</code>\n",
    "\n",
    "\n",
    "* 設定它為現行的字體：\n",
    "\n",
    "<code>\n",
    "mpl.rcParams['font.family'] = prop.get_name()\n",
    "plt.rcParams['font.sans-serif'] = prop.get_name()\n",
    "</code>\n",
    "\n",
    "\n"
   ]
  },
  {
   "cell_type": "code",
   "execution_count": null,
   "metadata": {},
   "outputs": [],
   "source": [
    "# 直接更改？？？\n",
    "\n",
    "import matplotlib\n",
    "matplotlib.matplotlib_fname()"
   ]
  },
  {
   "cell_type": "code",
   "execution_count": null,
   "metadata": {},
   "outputs": [],
   "source": [
    "# ttflist?\n",
    "\n",
    "import matplotlib\n",
    "\n",
    "mf_name = sorted([f.fname for f in matplotlib.font_manager.fontManager.ttflist])\n",
    "\n",
    "print(\"matplotlib 可用的ttf字体数：\", len(mf_name))\n",
    "\n",
    "ttf = []\n",
    "\n",
    "for i in mf_name:\n",
    "    ttf.append(i)\n",
    "    \n",
    "ttf[:10]"
   ]
  },
  {
   "cell_type": "code",
   "execution_count": null,
   "metadata": {},
   "outputs": [],
   "source": [
    "import matplotlib.font_manager as font_manager\n",
    "import matplotlib.pyplot as plt\n",
    "\n",
    "mpl.rcParams['font.family'] = 'Heiti TC'   # 目前如果找不到，就會直接改成'DejaVu Sans'\n",
    "# 當前主要字體(script中有記載)\n",
    "plt.rcParams['font.sans-serif'] = 'Heiti TC'"
   ]
  },
  {
   "cell_type": "code",
   "execution_count": null,
   "metadata": {},
   "outputs": [],
   "source": [
    "plt.rcParams['font.family']"
   ]
  },
  {
   "cell_type": "code",
   "execution_count": 6,
   "metadata": {},
   "outputs": [
    {
     "data": {
      "image/png": "[encoded data removed]",
      "text/plain": [
       "<Figure size 432x288 with 1 Axes>"
      ]
     },
     "metadata": {
      "needs_background": "light"
     },
     "output_type": "display_data"
    }
   ],
   "source": [
    "import matplotlib.pyplot as plt\n",
    "import scipy.stats as st\n",
    "rvs1 = st.norm.rvs(loc=5, scale=10, size=1500, random_state=100)\n",
    "#plt.rc('font',family='Heiti TC',size='15')  # 修改當前主要字體以及設定 #sans-serif\n",
    "\n",
    "\n",
    "plt.title(\"虛擬 X~N(5,100)\")\n",
    "plt.hist(rvs1,alpha = 0.2,bins = 20, color = \"gray\")\n",
    "plt.axis('off')\n",
    "plt.show()"
   ]
  },
  {
   "cell_type": "markdown",
   "metadata": {},
   "source": [
    "# 檢定"
   ]
  },
  {
   "cell_type": "markdown",
   "metadata": {},
   "source": [
    "* 常態檢定: KS, Shapiro, Anderson"
   ]
  },
  {
   "cell_type": "code",
   "execution_count": 39,
   "metadata": {},
   "outputs": [
    {
     "name": "stdout",
     "output_type": "stream",
     "text": [
      "The test statistic為0.031761283503303595，p value為0.6819422381684273\n"
     ]
    }
   ],
   "source": [
    "# kstest: https://docs.scipy.org/doc/scipy/reference/generated/scipy.stats.kstest.html\n",
    "# H0: The data follow a specified distribution\n",
    "\n",
    "rvs1 = st.norm.rvs(loc=0, scale=1, size=500, random_state=100)\n",
    "result = st.kstest(rvs1, 'norm')\n",
    "print(f\"The test statistic為{result.statistic}，p value為{result.pvalue}\")"
   ]
  },
  {
   "cell_type": "code",
   "execution_count": 36,
   "metadata": {},
   "outputs": [
    {
     "name": "stdout",
     "output_type": "stream",
     "text": [
      "The Anderson-Darling test statistic: 0.33221649119127505. \n",
      "The critical values for this distribution: [0.571 0.651 0.781 0.911 1.083]. \n",
      "The significance levels for the corresponding critical values in percents: [15.  10.   5.   2.5  1. ]. \n",
      "The function returns critical values for a differing set of significance levels depending on the distribution that is being tested against.\n"
     ]
    }
   ],
   "source": [
    "# Anderson Darling: https://docs.scipy.org/doc/scipy/reference/generated/scipy.stats.anderson.html\n",
    "# H0: The data follow a specified distribution\n",
    "\n",
    "rvs1 = st.norm.rvs(loc=0, scale=1, size=500, random_state=100)\n",
    "result = st.anderson(rvs1, 'norm')\n",
    "a = '\\n'\n",
    "\n",
    "print(f\"The Anderson-Darling test statistic: {result.statistic}. {a}\\\n",
    "The critical values for this distribution: {result.critical_values}. {a}\\\n",
    "The significance levels for the corresponding critical values in percents: {result.significance_level}. {a}\\\n",
    "The function returns critical values for a differing set of significance levels depending on the distribution that is being tested against.\")"
   ]
  },
  {
   "cell_type": "code",
   "execution_count": 40,
   "metadata": {},
   "outputs": [
    {
     "name": "stdout",
     "output_type": "stream",
     "text": [
      "The test statistic為0.9960017204284668，p value為0.23808568716049194\n"
     ]
    }
   ],
   "source": [
    "# Shapiro test: https://docs.scipy.org/doc/scipy/reference/generated/scipy.stats.shapiro.html\n",
    "# H0: the data was drawn from a normal distribution\n",
    "\n",
    "rvs1 = st.norm.rvs(loc=0, scale=1, size=500, random_state=100)\n",
    "result = st.shapiro(rvs1)\n",
    "print(f\"The test statistic為{result.statistic}，p value為{result.pvalue}\")"
   ]
  },
  {
   "cell_type": "code",
   "execution_count": null,
   "metadata": {},
   "outputs": [],
   "source": []
  },
  {
   "cell_type": "markdown",
   "metadata": {},
   "source": [
    "* 單母體T檢定<br>\n",
    "scipy.stats.ttest_1samp(a, popmean, axis=0, nan_policy='propagate', alternative='two-sided')<br>\n",
    "https://docs.scipy.org/doc/scipy/reference/generated/scipy.stats.ttest_1samp.html"
   ]
  },
  {
   "cell_type": "code",
   "execution_count": null,
   "metadata": {},
   "outputs": [],
   "source": [
    "# 單尾\n",
    "\n",
    "rvs1 = st.norm.rvs(loc=5, scale=10, size=500, random_state=100)\n",
    "result = st.ttest_1samp(rvs1,8.0,alternative='greater')\n",
    "print(f\"T統計值為{result.statistic}，p value為{result.pvalue}\")"
   ]
  },
  {
   "cell_type": "markdown",
   "metadata": {},
   "source": [
    "* * *"
   ]
  },
  {
   "cell_type": "markdown",
   "metadata": {},
   "source": [
    "* 兩獨立母體平均數T檢定(變異數相同/不同)<br>\n",
    "scipy.stats.ttest_ind(a, b, axis=0, equal_var=True, nan_policy='propagate', permutations=None, random_state=None, alternative='two-sided', trim=0)<br>\n",
    "https://docs.scipy.org/doc/scipy/reference/generated/scipy.stats.ttest_ind.html"
   ]
  },
  {
   "cell_type": "code",
   "execution_count": 4,
   "metadata": {},
   "outputs": [
    {
     "name": "stdout",
     "output_type": "stream",
     "text": [
      "T統計值為0.0，p value為1.0\n"
     ]
    }
   ],
   "source": [
    "# var 相同\n",
    "\n",
    "rvs1 = st.norm.rvs(loc=5, scale=10, size=500, random_state=100)\n",
    "rvs2 = st.norm.rvs(loc=5, scale=10, size=500, random_state=100)\n",
    "result = st.ttest_ind(rvs1, rvs2)\n",
    "print(f\"T統計值為{result.statistic}，p value為{result.pvalue}\")"
   ]
  },
  {
   "cell_type": "code",
   "execution_count": 5,
   "metadata": {},
   "outputs": [
    {
     "name": "stdout",
     "output_type": "stream",
     "text": [
      "T統計值為-0.49668942424999485，p value為0.6195174667456069\n"
     ]
    }
   ],
   "source": [
    "# var 相同\n",
    "\n",
    "rvs1 = st.norm.rvs(loc=5, scale=10, size=500, random_state=100)\n",
    "rvs2 = st.norm.rvs(loc=5, scale=10, size=500, random_state=102)\n",
    "result = st.ttest_ind(rvs1, rvs2)\n",
    "print(f\"T統計值為{result.statistic}，p value為{result.pvalue}\")"
   ]
  },
  {
   "cell_type": "code",
   "execution_count": null,
   "metadata": {},
   "outputs": [],
   "source": [
    "# var 不同\n",
    "\n",
    "rvs1 = st.norm.rvs(loc=5, scale=10, size=500, random_state=100)\n",
    "rvs2 = st.norm.rvs(loc=5, scale=10, size=500, random_state=100)\n",
    "result = st.ttest_ind(rvs1, rvs2,equal_var=False)\n",
    "print(f\"T統計值為{result.statistic}，p value為{result.pvalue}\")"
   ]
  },
  {
   "cell_type": "code",
   "execution_count": null,
   "metadata": {},
   "outputs": [],
   "source": [
    "# var 不同\n",
    "\n",
    "rvs1 = st.norm.rvs(loc=5, scale=10, size=500, random_state=100)\n",
    "rvs2 = st.norm.rvs(loc=5, scale=10, size=500, random_state=102)\n",
    "result = st.ttest_ind(rvs1, rvs2,equal_var=False)\n",
    "print(f\"T統計值為{result.statistic}，p value為{result.pvalue}\")"
   ]
  },
  {
   "cell_type": "code",
   "execution_count": null,
   "metadata": {},
   "outputs": [],
   "source": [
    "# 指定的敘述統計\n",
    "# scipy.stats.ttest_ind_from_stats(mean1, std1, nobs1, mean2, std2, nobs2, equal_var=True, alternative='two-sided')\n",
    "#https://docs.scipy.org/doc/scipy/reference/generated/scipy.stats.ttest_ind_from_stats.html\n",
    "\n",
    "result = st.ttest_ind_from_stats(mean1=15.0, std1=np.sqrt(87.5), nobs1=13,\n",
    "                                 mean2=12.0, std2=np.sqrt(39.0), nobs2=11)\n",
    "print(f\"T統計值為{result.statistic}，p value為{result.pvalue}\")"
   ]
  },
  {
   "cell_type": "markdown",
   "metadata": {},
   "source": [
    "* * *\n",
    "* 兩相依母體t test<br>\n",
    "https://docs.scipy.org/doc/scipy/reference/generated/scipy.stats.ttest_rel.html"
   ]
  },
  {
   "cell_type": "code",
   "execution_count": null,
   "metadata": {},
   "outputs": [],
   "source": [
    "# the t-test on TWO RELATED samples of scores, a and b.\n",
    "# scipy.stats.ttest_rel(a, b, axis=0, nan_policy='propagate', alternative='two-sided')"
   ]
  },
  {
   "cell_type": "markdown",
   "metadata": {},
   "source": [
    "* * *\n",
    "* ANOVA檢定"
   ]
  },
  {
   "cell_type": "code",
   "execution_count": null,
   "metadata": {},
   "outputs": [],
   "source": []
  },
  {
   "cell_type": "markdown",
   "metadata": {},
   "source": [
    "* * *\n",
    "* 卡方檢定"
   ]
  },
  {
   "cell_type": "code",
   "execution_count": null,
   "metadata": {},
   "outputs": [],
   "source": []
  },
  {
   "cell_type": "markdown",
   "metadata": {},
   "source": [
    "* * *\n",
    "* F檢定"
   ]
  },
  {
   "cell_type": "code",
   "execution_count": null,
   "metadata": {},
   "outputs": [],
   "source": []
  },
  {
   "cell_type": "markdown",
   "metadata": {},
   "source": [
    "* * *\n",
    "* 迴歸"
   ]
  },
  {
   "cell_type": "code",
   "execution_count": 17,
   "metadata": {},
   "outputs": [
    {
     "name": "stderr",
     "output_type": "stream",
     "text": [
      "/var/folders/6k/wcq9yj69573fbpzqbkvx6q300000gn/T/ipykernel_34711/1652127887.py:10: UserWarning: color is redundantly defined by the 'color' keyword argument and the fmt string \"r\" (-> color=(1.0, 0.0, 0.0, 1)). The keyword argument will take precedence.\n",
      "  plt.plot(x, res.intercept + res.slope*x, 'r', label='fitted line',color = \"gray\")\n"
     ]
    },
    {
     "data": {
      "image/png": "[encoded data removed]",
      "text/plain": [
       "<Figure size 432x288 with 1 Axes>"
      ]
     },
     "metadata": {
      "needs_background": "light"
     },
     "output_type": "display_data"
    }
   ],
   "source": [
    "# scipy.stats.linregress(simple regression)\n",
    "# https://docs.scipy.org/doc/scipy/reference/generated/scipy.stats.linregress.html\n",
    "import numpy as np\n",
    "import scipy.stats as st\n",
    "rng = np.random.default_rng(12345)\n",
    "x = rng.random(10)\n",
    "y = 1.6*x + rng.random(10)\n",
    "res = st.linregress(x, y)\n",
    "plt.plot(x, y, 'o', label='original data',color = \"skyblue\")\n",
    "plt.plot(x, res.intercept + res.slope*x, 'r', label='fitted line',color = \"gray\")\n",
    "plt.legend()\n",
    "plt.axis(\"off\")\n",
    "plt.show()"
   ]
  },
  {
   "cell_type": "code",
   "execution_count": 43,
   "metadata": {},
   "outputs": [],
   "source": [
    "# statsmodel(multiple regression)\n",
    "#https://scipy-lectures.org/packages/statistics/auto_examples/plot_regression_3d.html\n",
    "\n",
    "\n",
    "import numpy as np\n",
    "import matplotlib.pyplot as plt\n",
    "import pandas\n",
    "\n",
    "# For 3d plots. This import is necessary to have 3D plotting below\n",
    "from mpl_toolkits.mplot3d import Axes3D\n",
    "\n",
    "# For statistics. Requires statsmodels 5.0 or more\n",
    "from statsmodels.formula.api import ols\n",
    "# Analysis of Variance (ANOVA) on linear models\n",
    "from statsmodels.stats.anova import anova_lm"
   ]
  },
  {
   "cell_type": "code",
   "execution_count": 47,
   "metadata": {},
   "outputs": [
    {
     "name": "stderr",
     "output_type": "stream",
     "text": [
      "/var/folders/6k/wcq9yj69573fbpzqbkvx6q300000gn/T/ipykernel_36588/4125132805.py:13: MatplotlibDeprecationWarning: Calling gca() with keyword arguments was deprecated in Matplotlib 3.4. Starting two minor releases later, gca() will take no keyword arguments. The gca() function should only be used to get the current axes, or if no axes exist, create new axes with default keyword arguments. To create a new axes with non-default arguments, use plt.axes() or plt.subplot().\n",
      "  ax = fig.gca(projection='3d')\n"
     ]
    },
    {
     "data": {
      "image/png": "[encoded data removed]",
      "text/plain": [
       "<Figure size 432x288 with 1 Axes>"
      ]
     },
     "metadata": {
      "needs_background": "light"
     },
     "output_type": "display_data"
    }
   ],
   "source": [
    "x = np.linspace(-5, 5, 21)\n",
    "# We generate a 2D grid\n",
    "X, Y = np.meshgrid(x, x)\n",
    "\n",
    "# To get reproducable values, provide a seed value\n",
    "np.random.seed(1)\n",
    "\n",
    "# Z is the elevation of this 2D grid\n",
    "Z = -5 + 3*X - 0.5*Y + 8 * np.random.normal(size=X.shape)\n",
    "\n",
    "# Plot the data\n",
    "fig = plt.figure()\n",
    "ax = fig.gca(projection='3d')\n",
    "surf = ax.plot_surface(X, Y, Z, cmap=plt.cm.coolwarm,\n",
    "                       rstride=1, cstride=1)\n",
    "ax.view_init(20, -120)\n",
    "ax.set_xlabel('X')\n",
    "ax.set_ylabel('Y')\n",
    "ax.set_zlabel('Z')\n",
    "plt.show()"
   ]
  },
  {
   "cell_type": "code",
   "execution_count": 53,
   "metadata": {},
   "outputs": [
    {
     "name": "stdout",
     "output_type": "stream",
     "text": [
      "(21,) (21, 21) (21, 21) (21, 21)\n"
     ]
    }
   ],
   "source": [
    "x = np.linspace(-5, 5, 21)\n",
    "# We generate a 2D grid\n",
    "X, Y = np.meshgrid(x, x)\n",
    "Z = -5 + 3*X - 0.5*Y + 8 * np.random.normal(size=X.shape)\n",
    "print(x.shape,X.shape,Y.shape,Z.shape)"
   ]
  },
  {
   "cell_type": "code",
   "execution_count": 46,
   "metadata": {},
   "outputs": [
    {
     "name": "stdout",
     "output_type": "stream",
     "text": [
      "                            OLS Regression Results                            \n",
      "==============================================================================\n",
      "Dep. Variable:                      z   R-squared:                       0.594\n",
      "Model:                            OLS   Adj. R-squared:                  0.592\n",
      "Method:                 Least Squares   F-statistic:                     320.4\n",
      "Date:                Tue, 07 Sep 2021   Prob (F-statistic):           1.89e-86\n",
      "Time:                        22:25:49   Log-Likelihood:                -1537.7\n",
      "No. Observations:                 441   AIC:                             3081.\n",
      "Df Residuals:                     438   BIC:                             3094.\n",
      "Df Model:                           2                                         \n",
      "Covariance Type:            nonrobust                                         \n",
      "==============================================================================\n",
      "                 coef    std err          t      P>|t|      [0.025      0.975]\n",
      "------------------------------------------------------------------------------\n",
      "Intercept     -4.5052      0.378    -11.924      0.000      -5.248      -3.763\n",
      "x              3.1173      0.125     24.979      0.000       2.872       3.363\n",
      "y             -0.5109      0.125     -4.094      0.000      -0.756      -0.266\n",
      "==============================================================================\n",
      "Omnibus:                        0.260   Durbin-Watson:                   2.057\n",
      "Prob(Omnibus):                  0.878   Jarque-Bera (JB):                0.204\n",
      "Skew:                          -0.052   Prob(JB):                        0.903\n",
      "Kurtosis:                       3.015   Cond. No.                         3.03\n",
      "==============================================================================\n",
      "\n",
      "Notes:\n",
      "[1] Standard Errors assume that the covariance matrix of the errors is correctly specified.\n",
      "\n",
      "Retrieving manually the parameter estimates:\n",
      "[-4.50523303  3.11734237 -0.51091248]\n",
      "\n",
      "ANOVA results\n",
      "             df        sum_sq       mean_sq           F        PR(>F)\n",
      "x           1.0  39284.301219  39284.301219  623.962799  2.888238e-86\n",
      "y           1.0   1055.220089   1055.220089   16.760336  5.050899e-05\n",
      "Residual  438.0  27576.201607     62.959364         NaN           NaN\n"
     ]
    }
   ],
   "source": [
    "X = X.flatten()\n",
    "Y = Y.flatten()\n",
    "Z = Z.flatten()\n",
    "\n",
    "data = pandas.DataFrame({'x': X, 'y': Y, 'z': Z})\n",
    "\n",
    "# Fit the model\n",
    "model = ols(\"z ~ x + y\", data).fit()\n",
    "\n",
    "# Print the summary\n",
    "print(model.summary())\n",
    "\n",
    "print(\"\\nRetrieving manually the parameter estimates:\")\n",
    "print(model._results.params)\n",
    "# should be array([-4.99754526,  3.00250049, -0.50514907])\n",
    "\n",
    "# Peform analysis of variance on fitted linear model\n",
    "anova_results = anova_lm(model)\n",
    "\n",
    "print('\\nANOVA results')\n",
    "print(anova_results)"
   ]
  },
  {
   "cell_type": "code",
   "execution_count": null,
   "metadata": {},
   "outputs": [],
   "source": [
    "model.fittedvalues\n",
    "# 更多attributes\n",
    "# https://www.statsmodels.org/stable/generated/statsmodels.regression.linear_model.OLSResults.html"
   ]
  },
  {
   "cell_type": "code",
   "execution_count": null,
   "metadata": {},
   "outputs": [],
   "source": [
    "# another example:\n",
    "# https://www.statsmodels.org/dev/example_formulas.html"
   ]
  },
  {
   "cell_type": "markdown",
   "metadata": {},
   "source": [
    "# 應用 "
   ]
  },
  {
   "cell_type": "code",
   "execution_count": null,
   "metadata": {},
   "outputs": [],
   "source": [
    "# var相同，求setosa和versicolor的sepal length (cm)有沒有顯著差異\n",
    "\n",
    "result = st.ttest_ind(data[data[\"target\"]==\"setosa\"][\"sepal length (cm)\"], data[data[\"target\"]==\"versicolor\"][\"sepal length (cm)\"])\n",
    "print(f\"T統計值為{result.statistic}，p value為{result.pvalue}\")"
   ]
  },
  {
   "cell_type": "code",
   "execution_count": 11,
   "metadata": {},
   "outputs": [
    {
     "data": {
      "image/png": "[encoded data removed]",
      "text/plain": [
       "<Figure size 432x288 with 1 Axes>"
      ]
     },
     "metadata": {
      "needs_background": "light"
     },
     "output_type": "display_data"
    }
   ],
   "source": [
    "plt.rc('font',family='Heiti TC',size='15')  # 修改當前主要字體以及設定\n",
    "#plt.rc('font',family='STHeiti Light',size='15')\n",
    "plt.title(\"兩種分布情形\")\n",
    "plt.hist(data[data[\"target\"]==\"setosa\"][\"sepal length (cm)\"],label = \"setosa\",alpha = 0.2,bins = 10)\n",
    "plt.hist(data[data[\"target\"]==\"versicolor\"][\"sepal length (cm)\"],label = \"versicolor\",alpha = 0.2,bins = 10)\n",
    "plt.xlabel(\"花萼長度(cm)\")\n",
    "plt.ylabel(\"計數\")\n",
    "plt.legend()\n",
    "plt.show()"
   ]
  },
  {
   "cell_type": "code",
   "execution_count": null,
   "metadata": {},
   "outputs": [],
   "source": []
  }
 ],
 "metadata": {
  "kernelspec": {
   "display_name": "Python [conda env:py38_env]",
   "language": "python",
   "name": "conda-env-py38_env-py"
  },
  "language_info": {
   "codemirror_mode": {
    "name": "ipython",
    "version": 3
   },
   "file_extension": ".py",
   "mimetype": "text/x-python",
   "name": "python",
   "nbconvert_exporter": "python",
   "pygments_lexer": "ipython3",
   "version": "3.8.11"
  },
  "toc-autonumbering": true,
  "toc-showmarkdowntxt": false
 },
 "nbformat": 4,
 "nbformat_minor": 4
}
