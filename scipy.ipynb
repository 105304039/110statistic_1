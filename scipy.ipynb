{
 "cells": [
  {
   "cell_type": "code",
   "execution_count": 31,
   "metadata": {},
   "outputs": [],
   "source": [
    "from sklearn import datasets\n",
    "import pandas as pd\n",
    "import numpy as np\n",
    "import scipy.stats as st \n",
    "import matplotlib.pyplot as plt"
   ]
  },
  {
   "cell_type": "markdown",
   "metadata": {},
   "source": [
    "# 1. 載入iris資料集作為示範"
   ]
  },
  {
   "cell_type": "code",
   "execution_count": 32,
   "metadata": {},
   "outputs": [],
   "source": [
    "iris = datasets.load_iris()  # 以字典型態載入"
   ]
  },
  {
   "cell_type": "code",
   "execution_count": 33,
   "metadata": {},
   "outputs": [
    {
     "data": {
      "text/html": [
       "<div>\n",
       "<style scoped>\n",
       "    .dataframe tbody tr th:only-of-type {\n",
       "        vertical-align: middle;\n",
       "    }\n",
       "\n",
       "    .dataframe tbody tr th {\n",
       "        vertical-align: top;\n",
       "    }\n",
       "\n",
       "    .dataframe thead th {\n",
       "        text-align: right;\n",
       "    }\n",
       "</style>\n",
       "<table border=\"1\" class=\"dataframe\">\n",
       "  <thead>\n",
       "    <tr style=\"text-align: right;\">\n",
       "      <th></th>\n",
       "      <th>sepal length (cm)</th>\n",
       "      <th>sepal width (cm)</th>\n",
       "      <th>petal length (cm)</th>\n",
       "      <th>petal width (cm)</th>\n",
       "      <th>target</th>\n",
       "    </tr>\n",
       "  </thead>\n",
       "  <tbody>\n",
       "    <tr>\n",
       "      <th>0</th>\n",
       "      <td>5.1</td>\n",
       "      <td>3.5</td>\n",
       "      <td>1.4</td>\n",
       "      <td>0.2</td>\n",
       "      <td>setosa</td>\n",
       "    </tr>\n",
       "    <tr>\n",
       "      <th>1</th>\n",
       "      <td>4.9</td>\n",
       "      <td>3.0</td>\n",
       "      <td>1.4</td>\n",
       "      <td>0.2</td>\n",
       "      <td>setosa</td>\n",
       "    </tr>\n",
       "    <tr>\n",
       "      <th>2</th>\n",
       "      <td>4.7</td>\n",
       "      <td>3.2</td>\n",
       "      <td>1.3</td>\n",
       "      <td>0.2</td>\n",
       "      <td>setosa</td>\n",
       "    </tr>\n",
       "    <tr>\n",
       "      <th>3</th>\n",
       "      <td>4.6</td>\n",
       "      <td>3.1</td>\n",
       "      <td>1.5</td>\n",
       "      <td>0.2</td>\n",
       "      <td>setosa</td>\n",
       "    </tr>\n",
       "    <tr>\n",
       "      <th>4</th>\n",
       "      <td>5.0</td>\n",
       "      <td>3.6</td>\n",
       "      <td>1.4</td>\n",
       "      <td>0.2</td>\n",
       "      <td>setosa</td>\n",
       "    </tr>\n",
       "  </tbody>\n",
       "</table>\n",
       "</div>"
      ],
      "text/plain": [
       "   sepal length (cm)  sepal width (cm)  petal length (cm)  petal width (cm)  \\\n",
       "0                5.1               3.5                1.4               0.2   \n",
       "1                4.9               3.0                1.4               0.2   \n",
       "2                4.7               3.2                1.3               0.2   \n",
       "3                4.6               3.1                1.5               0.2   \n",
       "4                5.0               3.6                1.4               0.2   \n",
       "\n",
       "   target  \n",
       "0  setosa  \n",
       "1  setosa  \n",
       "2  setosa  \n",
       "3  setosa  \n",
       "4  setosa  "
      ]
     },
     "execution_count": 33,
     "metadata": {},
     "output_type": "execute_result"
    }
   ],
   "source": [
    "# 用表格呈現前五筆(除了features以外，新增一欄位紀錄鳶尾花品種)\n",
    "\n",
    "table = pd.DataFrame(iris[\"data\"],columns = iris[\"feature_names\"])\n",
    "table[\"target\"] = [iris[\"target_names\"][d] for d in iris[\"target\"]]\n",
    "table.head()"
   ]
  },
  {
   "cell_type": "markdown",
   "metadata": {},
   "source": [
    "* 其他所有提供的分配\n",
    "https://docs.scipy.org/doc/scipy/reference/stats.html<br>\n",
    "例如：st.t.rvs(df, loc=0, scale=1, size=1, random_state=None)"
   ]
  },
  {
   "cell_type": "markdown",
   "metadata": {},
   "source": [
    "# 2. 查表：以Z分配示範"
   ]
  },
  {
   "cell_type": "markdown",
   "metadata": {},
   "source": [
    "已知Z分配的pdf為：\n",
    "$f(x)=\\frac{exp(\\frac{-x^2}{2})}{\\sqrt{2\\pi}}$\n",
    "## 2.1 求$P(x_0)$ : st.norm.pdf"
   ]
  },
  {
   "cell_type": "code",
   "execution_count": 4,
   "metadata": {},
   "outputs": [
    {
     "name": "stdout",
     "output_type": "stream",
     "text": [
      "scipy的運算結果為： 0.3989422804014327\n",
      "照數學式驗算結果為： 0.3989422804014327\n"
     ]
    }
   ],
   "source": [
    "# 在 Normal(mean = 0, s.d. = 1)之中，x=0的機率為:\n",
    "\n",
    "print(\"scipy的運算結果為：\",st.norm.pdf(0,loc = 0,scale = 1))\n",
    "print(\"照數學式驗算結果為：\",1/((2*np.pi)**(1/2)))"
   ]
  },
  {
   "cell_type": "code",
   "execution_count": 5,
   "metadata": {},
   "outputs": [
    {
     "name": "stdout",
     "output_type": "stream",
     "text": [
      "scipy的運算結果為： 0.24197072451914337\n",
      "照數學式驗算結果為： 0.24197072451914337\n"
     ]
    }
   ],
   "source": [
    "# 在 Normal(mean = 0, s.d. = 1)之中，x=1的機率為:\n",
    "\n",
    "print(\"scipy的運算結果為：\",st.norm.pdf(1,loc = 0,scale = 1))\n",
    "print(\"照數學式驗算結果為：\",np.exp(-1/2)/((2*np.pi)**(1/2)))"
   ]
  },
  {
   "cell_type": "markdown",
   "metadata": {},
   "source": [
    "## 2.2 求$P(X< x_0)$ : st.norm.cdf"
   ]
  },
  {
   "cell_type": "code",
   "execution_count": 73,
   "metadata": {},
   "outputs": [
    {
     "data": {
      "text/plain": [
       "0.5"
      ]
     },
     "execution_count": 73,
     "metadata": {},
     "output_type": "execute_result"
    }
   ],
   "source": [
    "st.norm.cdf(0,loc=0,scale=1) "
   ]
  },
  {
   "cell_type": "code",
   "execution_count": 74,
   "metadata": {},
   "outputs": [
    {
     "name": "stdout",
     "output_type": "stream",
     "text": [
      "左右3個標準差內： 0.9973002039367398\n",
      "左右2個標準差內： 0.9544997361036416\n",
      "左右1個標準差內： 0.6826894921370859\n"
     ]
    }
   ],
   "source": [
    "# 驗證empirical rule\n",
    "\n",
    "print(\"左右3個標準差內：\",st.norm.cdf(3,loc=0,scale=1) - st.norm.cdf(-3,loc=0,scale=1))\n",
    "print(\"左右2個標準差內：\",st.norm.cdf(2,loc=0,scale=1) - st.norm.cdf(-2,loc=0,scale=1))\n",
    "print(\"左右1個標準差內：\",st.norm.cdf(1,loc=0,scale=1) - st.norm.cdf(-1,loc=0,scale=1))"
   ]
  },
  {
   "cell_type": "markdown",
   "metadata": {},
   "source": [
    "## 2.3 已知$P(X< x_0)$，求$x_0$：st.norm.ppf\n",
    "ppf是cdf的反函數"
   ]
  },
  {
   "cell_type": "markdown",
   "metadata": {},
   "source": [
    "$\\Phi(0.5)$"
   ]
  },
  {
   "cell_type": "code",
   "execution_count": 11,
   "metadata": {},
   "outputs": [
    {
     "data": {
      "text/plain": [
       "0.0"
      ]
     },
     "execution_count": 11,
     "metadata": {},
     "output_type": "execute_result"
    }
   ],
   "source": [
    "st.norm.ppf(0.5, loc=0, scale=1)"
   ]
  },
  {
   "cell_type": "markdown",
   "metadata": {},
   "source": [
    "$\\Phi(0.975)$"
   ]
  },
  {
   "cell_type": "code",
   "execution_count": 12,
   "metadata": {},
   "outputs": [
    {
     "data": {
      "text/plain": [
       "1.959963984540054"
      ]
     },
     "execution_count": 12,
     "metadata": {},
     "output_type": "execute_result"
    }
   ],
   "source": [
    "st.norm.ppf(0.975, loc=0, scale=1)"
   ]
  },
  {
   "cell_type": "markdown",
   "metadata": {},
   "source": [
    "# 3. 檢定"
   ]
  },
  {
   "cell_type": "markdown",
   "metadata": {},
   "source": [
    "## 3.1 單母體T檢定\n",
    "`scipy.stats.ttest_1samp(observations, expected mean, alternative='two-sided')`<br>\n",
    "[source](https://docs.scipy.org/doc/scipy/reference/generated/scipy.stats.ttest_1samp.html)"
   ]
  },
  {
   "cell_type": "markdown",
   "metadata": {},
   "source": [
    "> **練習:**<br>\n",
    "iris資料集中，sepal length(cm)的平均數是否大於5？<br>\n",
    "$H_{0}: The\\ mean\\ of\\ sepal\\ length\\ (cm)\\ is\\ less\\ than\\ 5.$ <br>\n",
    "$H_{1}: The\\ mean\\ of\\ sepal\\ length\\ (cm)\\ is\\ greater\\ than\\ or\\ equal\\ to\\ 5.$"
   ]
  },
  {
   "cell_type": "code",
   "execution_count": 8,
   "metadata": {},
   "outputs": [
    {
     "name": "stdout",
     "output_type": "stream",
     "text": [
      "T統計值為12.473257146694761，p value為3.3353711499009633e-25\n"
     ]
    }
   ],
   "source": [
    "result = st.ttest_1samp(table[\"sepal length (cm)\"],5.0,alternative='greater')\n",
    "print(f\"T統計值為{result.statistic}，p value為{result.pvalue}\")"
   ]
  },
  {
   "cell_type": "markdown",
   "metadata": {},
   "source": [
    "### check the result"
   ]
  },
  {
   "cell_type": "code",
   "execution_count": 14,
   "metadata": {},
   "outputs": [
    {
     "data": {
      "text/plain": [
       "<matplotlib.lines.Line2D at 0x7ffb78568b50>"
      ]
     },
     "execution_count": 14,
     "metadata": {},
     "output_type": "execute_result"
    },
    {
     "data": {
      "image/png": "[encoded data removed]",
      "text/plain": [
       "<Figure size 432x288 with 1 Axes>"
      ]
     },
     "metadata": {
      "needs_background": "light"
     },
     "output_type": "display_data"
    }
   ],
   "source": [
    "table[\"sepal length (cm)\"].plot.hist(bins = 20)\n",
    "plt.axvline(5,color = \"red\")"
   ]
  },
  {
   "cell_type": "markdown",
   "metadata": {},
   "source": [
    "## 3.2 兩獨立母體平均數T檢定\n",
    "`scipy.stats.ttest_ind(樣本a, 樣本b, equal_var=True, alternative='two-sided')`<br>\n",
    "[source](https://docs.scipy.org/doc/scipy/reference/generated/scipy.stats.ttest_ind.html)"
   ]
  },
  {
   "cell_type": "markdown",
   "metadata": {},
   "source": [
    "> **練習:**<br>\n",
    "iris資料集中，sepal length(cm)的平均數是否不同於petal length(cm)？<br>\n",
    "$H_{0}: The\\ mean\\ of\\ sepal\\ length\\ (cm)\\ equals\\ the\\ mean\\ of\\ petal\\ length\\ (cm)$ <br>\n",
    "$H_{1}: The\\ mean\\ of\\ sepal\\ length\\ (cm)\\ does\\ not\\ equal\\ the\\ mean\\ of\\ petal\\ length\\ (cm)$"
   ]
  },
  {
   "cell_type": "markdown",
   "metadata": {},
   "source": [
    "### 3.2.1 令變異數相同: equal_var=True (default)"
   ]
  },
  {
   "cell_type": "code",
   "execution_count": 15,
   "metadata": {},
   "outputs": [
    {
     "name": "stdout",
     "output_type": "stream",
     "text": [
      "T統計值為13.09835310896086，p value為2.8571040695819004e-31\n"
     ]
    }
   ],
   "source": [
    "result = st.ttest_ind(table[\"sepal length (cm)\"], table[\"petal length (cm)\"])\n",
    "print(f\"T統計值為{result.statistic}，p value為{result.pvalue}\")"
   ]
  },
  {
   "cell_type": "markdown",
   "metadata": {},
   "source": [
    "### 3.2.2 令變異數不同: equal_var=False"
   ]
  },
  {
   "cell_type": "code",
   "execution_count": 16,
   "metadata": {},
   "outputs": [
    {
     "name": "stdout",
     "output_type": "stream",
     "text": [
      "T統計值為13.09835310896086，p value為4.262173272631899e-29\n"
     ]
    }
   ],
   "source": [
    "result = st.ttest_ind(table[\"sepal length (cm)\"], table[\"petal length (cm)\"],equal_var=False)\n",
    "print(f\"T統計值為{result.statistic}，p value為{result.pvalue}\")"
   ]
  },
  {
   "cell_type": "markdown",
   "metadata": {},
   "source": [
    "### check the result"
   ]
  },
  {
   "cell_type": "code",
   "execution_count": 19,
   "metadata": {},
   "outputs": [
    {
     "data": {
      "text/plain": [
       "<AxesSubplot:ylabel='Frequency'>"
      ]
     },
     "execution_count": 19,
     "metadata": {},
     "output_type": "execute_result"
    },
    {
     "data": {
      "image/png": "[encoded data removed]",
      "text/plain": [
       "<Figure size 432x288 with 1 Axes>"
      ]
     },
     "metadata": {
      "needs_background": "light"
     },
     "output_type": "display_data"
    }
   ],
   "source": [
    "table[[\"sepal length (cm)\",\"petal length (cm)\"]].plot.hist(bins = 20,alpha = 0.5)"
   ]
  },
  {
   "cell_type": "code",
   "execution_count": 21,
   "metadata": {},
   "outputs": [
    {
     "data": {
      "text/plain": [
       "sepal length (cm)    5.843333\n",
       "petal length (cm)    3.758000\n",
       "dtype: float64"
      ]
     },
     "execution_count": 21,
     "metadata": {},
     "output_type": "execute_result"
    }
   ],
   "source": [
    "table[[\"sepal length (cm)\",\"petal length (cm)\"]].mean()"
   ]
  },
  {
   "cell_type": "markdown",
   "metadata": {},
   "source": [
    "## 3.3 兩不獨立母體平均數T檢定\n",
    "`scipy.stats.ttest_rel(樣本a, 樣本b, alternative='two-sided')`<br>\n",
    "[source](https://docs.scipy.org/doc/scipy/reference/generated/scipy.stats.ttest_rel.html)<br>\n",
    "> **練習:**<br>\n",
    "若假定sepal length(cm)與petal length(cm)來自兩不獨立母體，則欲求兩者是否平均數相異？"
   ]
  },
  {
   "cell_type": "code",
   "execution_count": 50,
   "metadata": {},
   "outputs": [
    {
     "name": "stdout",
     "output_type": "stream",
     "text": [
      "T統計值為22.81321951765914，p value為1.7996292277334387e-50\n"
     ]
    }
   ],
   "source": [
    "result = st.ttest_rel(table[\"sepal length (cm)\"], table[\"petal length (cm)\"])\n",
    "print(f\"T統計值為{result.statistic}，p value為{result.pvalue}\")"
   ]
  },
  {
   "cell_type": "markdown",
   "metadata": {},
   "source": [
    "## 3.4 one-way ANOVA"
   ]
  },
  {
   "cell_type": "markdown",
   "metadata": {},
   "source": [
    "`scipy.stats.f_oneway(樣本a, 樣本b, 樣本c, ...)`<br>\n",
    "[source](https://docs.scipy.org/doc/scipy/reference/generated/scipy.stats.f_oneway.html)"
   ]
  },
  {
   "cell_type": "markdown",
   "metadata": {},
   "source": [
    "> **練習:**<br>\n",
    "iris資料集中，各個鳶尾花品種的sepal length(cm)平均數是否相異？<br>\n",
    "$H_{0}: The\\ means\\ of\\ sepal\\ length\\ (cm)\\ of\\ setosa,\\ versicolor,\\ and\\  virginica\\ are\\ equivalent.$ <br>\n",
    "$H_{1}: The\\ means\\ of\\ sepal\\ length\\ (cm)\\ of\\ setosa,\\ versicolor,\\ and\\  virginica\\ are\\ not\\ equivalent.$ "
   ]
  },
  {
   "cell_type": "code",
   "execution_count": 49,
   "metadata": {},
   "outputs": [
    {
     "name": "stdout",
     "output_type": "stream",
     "text": [
      "F統計值為119.26450218450468，p value為1.6696691907693826e-31\n"
     ]
    }
   ],
   "source": [
    "result = st.f_oneway(table[table[\"target\"]==\"setosa\"][\"sepal length (cm)\"],     # setosa的 sepal length (cm)\n",
    "                     table[table[\"target\"]==\"versicolor\"][\"sepal length (cm)\"], # versicolor的 sepal length (cm)\n",
    "                     table[table[\"target\"]==\"virginica\"][\"sepal length (cm)\"])  # virginica的 sepal length (cm)\n",
    "print(f\"F統計值為{result.statistic}，p value為{result.pvalue}\")"
   ]
  },
  {
   "cell_type": "markdown",
   "metadata": {},
   "source": [
    "### check the result"
   ]
  },
  {
   "cell_type": "code",
   "execution_count": 42,
   "metadata": {},
   "outputs": [
    {
     "data": {
      "image/png": "[encoded data removed]",
      "text/plain": [
       "<Figure size 432x288 with 1 Axes>"
      ]
     },
     "metadata": {
      "needs_background": "light"
     },
     "output_type": "display_data"
    }
   ],
   "source": [
    "table.groupby('target')['sepal length (cm)'].plot.hist(legend=True,alpha = 0.5)\n",
    "plt.show()"
   ]
  },
  {
   "cell_type": "markdown",
   "metadata": {},
   "source": [
    "## 3.5 卡方檢定\n",
    "The chi-square test tests the null hypothesis that the categorical data has the given frequencies.<br>\n",
    "`scipy.stats.chisquare(categorical樣本分佈情形, categorical樣本理想分佈情形)`<br>\n",
    "[source](https://docs.scipy.org/doc/scipy/reference/generated/scipy.stats.chisquare.html)"
   ]
  },
  {
   "cell_type": "markdown",
   "metadata": {},
   "source": [
    "> **練習:**<br>\n",
    "iris資料集中，𝑠𝑒𝑡𝑜𝑠𝑎, 𝑣𝑒𝑟𝑠𝑖𝑐𝑜𝑙𝑜𝑟, 𝑎𝑛𝑑 𝑣𝑖𝑟𝑔𝑖𝑛𝑖𝑐𝑎的筆數是否符合 50, 50, 50？<br>\n",
    "$H_{0}: The\\ number\\ of\\ observations\\ of\\ setosa,\\ versicolor,\\ and\\  virginica\\ are\\ equivalent.$ <br>\n",
    "$H_{1}: The\\ number\\ of\\ observations\\ of\\ setosa,\\ versicolor,\\ and\\  virginica\\ are\\ not\\ equivalent.$ <br>"
   ]
  },
  {
   "cell_type": "code",
   "execution_count": 75,
   "metadata": {},
   "outputs": [
    {
     "data": {
      "text/plain": [
       "setosa        50\n",
       "versicolor    50\n",
       "virginica     50\n",
       "Name: target, dtype: int64"
      ]
     },
     "execution_count": 75,
     "metadata": {},
     "output_type": "execute_result"
    }
   ],
   "source": [
    "table[\"target\"].value_counts()"
   ]
  },
  {
   "cell_type": "code",
   "execution_count": 48,
   "metadata": {},
   "outputs": [
    {
     "name": "stdout",
     "output_type": "stream",
     "text": [
      "卡方值為0.0，p value為1.0\n"
     ]
    }
   ],
   "source": [
    "result = st.chisquare(table[\"target\"].value_counts(),[50,50,50])\n",
    "print(f\"卡方值為{result.statistic}，p value為{result.pvalue}\")"
   ]
  },
  {
   "cell_type": "markdown",
   "metadata": {},
   "source": [
    "### check the result"
   ]
  },
  {
   "cell_type": "code",
   "execution_count": 34,
   "metadata": {},
   "outputs": [
    {
     "data": {
      "text/plain": [
       "<AxesSubplot:>"
      ]
     },
     "execution_count": 34,
     "metadata": {},
     "output_type": "execute_result"
    },
    {
     "data": {
      "image/png": "[encoded data removed]",
      "text/plain": [
       "<Figure size 432x288 with 1 Axes>"
      ]
     },
     "metadata": {
      "needs_background": "light"
     },
     "output_type": "display_data"
    }
   ],
   "source": [
    "table[\"target\"].value_counts().plot.bar(rot = 45)"
   ]
  },
  {
   "cell_type": "markdown",
   "metadata": {},
   "source": [
    "## 3.6 Test of Proportion\n",
    "Perform a test that the probability of success is p.<br>\n",
    "`scipy.stats.binomtest(k =「成功」筆數, n = 總筆數, p = 預期比例, alternative='two-sided')`<br>\n",
    "[source](https://docs.scipy.org/doc/scipy/reference/generated/scipy.stats.binomtest.html#scipy.stats.binomtest)\n",
    "> **練習:**<br>\n",
    "TEJ資料庫中，2020年底統計該年度上市櫃公司共1715間，其中有53間有更換會計師事務所。現今希望了解上市櫃公司中更換會計師事務所的比例，欲用比例檢定了解其比例（p）是否為0.04。<br>\n",
    "$H_{0}: p = 0.04$ <br>\n",
    "$H_{1}: p \\neq 0.04$ <br>"
   ]
  },
  {
   "cell_type": "code",
   "execution_count": 35,
   "metadata": {},
   "outputs": [
    {
     "name": "stdout",
     "output_type": "stream",
     "text": [
      "The point estimate is 0.030903790087463558.\n",
      "The p value of the test is 0.05584303301029005.\n"
     ]
    }
   ],
   "source": [
    "result = st.binomtest(53,1715, p=0.04, alternative='two-sided')\n",
    "\n",
    "print(f\"The point estimate is {result.proportion_estimate}.\\nThe p value of the test is {result.pvalue}.\")"
   ]
  },
  {
   "cell_type": "markdown",
   "metadata": {},
   "source": [
    "## 3.7 Test of two proportions\n",
    "`statsmodels.stats.proportion.test_proportions_2indep(count1, nobs1, count2, nobs2, value=None, method=None, compare='diff', alternative='two-sided', correction=True, return_results=True)`<br>\n",
    "[source](https://www.statsmodels.org/dev/generated/statsmodels.stats.proportion.test_proportions_2indep.html)\n",
    "> **練習:**<br>\n",
    "TEJ資料庫中，2020年底統計該年度上市櫃公司共1715間，其中有53間有更換會計師事務所；而2019年上市櫃公司共1685間，其中有44間有更換會計師事務所。現今希望了解兩個年度的上市櫃公司更換會計師事務所的比例是否相異。令2019年比例為$p_{1}$，2020年比例為$p_{2}\n",
    "$。<br>\n",
    "$H_{0}: p_{1} = p_{2}$ <br>\n",
    "$H_{1}: p_{1} \\neq p_{2}$ <br>"
   ]
  },
  {
   "cell_type": "code",
   "execution_count": 37,
   "metadata": {},
   "outputs": [],
   "source": [
    "from statsmodels.stats.proportion import test_proportions_2indep\n",
    "\n",
    "# 此數由於 H0: p1 = p2，即表示 p1 - p2 = 0，因此value填0即可。欲比較兩母體之差，因此compare = 'diff'。\n",
    "result = test_proportions_2indep(53, 1715, 44, 1685, value=0, compare='diff', alternative='two-sided', correction=True, return_results=True)"
   ]
  },
  {
   "cell_type": "code",
   "execution_count": 41,
   "metadata": {},
   "outputs": [
    {
     "name": "stdout",
     "output_type": "stream",
     "text": [
      "The z statistic is 0.8296866552748235.\n",
      "The p value of the test is 0.4067159683425684.\n"
     ]
    }
   ],
   "source": [
    "print(f\"The z statistic is {result.statistic}.\\nThe p value of the test is {result.pvalue}.\")"
   ]
  },
  {
   "cell_type": "markdown",
   "metadata": {},
   "source": [
    "## 3.8 Test of ratio of two variances (unknown $\\mu $)\n",
    "[參考來源](https://www.geeksforgeeks.org/how-to-perform-an-f-test-in-python/)<br>\n",
    "欲實現虛無假設為$H_{0}: \\frac{\\sigma_{1}}{\\sigma_{2}} = k$ <br> \n",
    "註：f_test的f-statistic計算式為$\\frac{s_{1}^2 / s_{2}^2}{k}$。<br>\n",
    "而$s_{1}^2$的計算為$\\frac{\\sum_{i=1}^{m} (x_{i}-\\bar x)^2}{m-1}$(令樣本1共m筆)，以此類推。"
   ]
  },
  {
   "cell_type": "code",
   "execution_count": 65,
   "metadata": {},
   "outputs": [
    {
     "data": {
      "text/plain": [
       "(7.373271889400921, 0.037888376133341395)"
      ]
     },
     "execution_count": 65,
     "metadata": {},
     "output_type": "execute_result"
    }
   ],
   "source": [
    "# test data\n",
    "group1 = [26,25,43,34,18,52]\n",
    "group2 = [23,30,18,25,28]\n",
    "  \n",
    "# function    \n",
    "def f_test(group1, group2,k=1):\n",
    "    f = (np.var(group1, ddof=1)/np.var(group2, ddof=1))/k\n",
    "    nun = len(group1)-1\n",
    "    dun = len(group2)-1\n",
    "    p_value = 1-st.f.cdf(f, nun, dun)\n",
    "    return f, p_value\n",
    "\n",
    "# run\n",
    "f_test(group1, group2)"
   ]
  },
  {
   "cell_type": "markdown",
   "metadata": {},
   "source": [
    "### 補充：改寫成與其他檢定相似的class"
   ]
  },
  {
   "cell_type": "code",
   "execution_count": 66,
   "metadata": {},
   "outputs": [],
   "source": [
    "import scipy.stats as st\n",
    "class ftest():\n",
    "    '''f test: compares the ratio of the variances of two populations and determines if they are statistically similar or not '''\n",
    "    def __init__(self,data1,data2,k=1):\n",
    "        self.data1 = data1\n",
    "        self.data2 = data2\n",
    "        self.k = k\n",
    "        self.statistic, self.pvalue = self.f_test()\n",
    "\n",
    "    def f_test(self):\n",
    "        f = (np.var(self.data1, ddof=1)/np.var(self.data2, ddof=1))/self.k\n",
    "        nun, dun = len(self.data1)-1, len(self.data2)-1\n",
    "        p_value = 1-st.f.cdf(f, nun, dun)\n",
    "        return f, p_value    "
   ]
  },
  {
   "cell_type": "code",
   "execution_count": 72,
   "metadata": {},
   "outputs": [
    {
     "name": "stdout",
     "output_type": "stream",
     "text": [
      "The f statistic is 7.373271889400921.\n",
      "The p value of the test is 0.037888376133341395.\n"
     ]
    }
   ],
   "source": [
    "group1 = [26,25,43,34,18,52]\n",
    "group2 = [23,30,18,25,28]\n",
    "result = ftest(group1,group2)\n",
    "print(f\"The f statistic is {result.statistic}.\\nThe p value of the test is {result.pvalue}.\")"
   ]
  }
 ],
 "metadata": {
  "kernelspec": {
   "display_name": "Python [conda env:py38_env]",
   "language": "python",
   "name": "conda-env-py38_env-py"
  },
  "language_info": {
   "codemirror_mode": {
    "name": "ipython",
    "version": 3
   },
   "file_extension": ".py",
   "mimetype": "text/x-python",
   "name": "python",
   "nbconvert_exporter": "python",
   "pygments_lexer": "ipython3",
   "version": "3.8.12"
  },
  "toc-autonumbering": false,
  "toc-showmarkdowntxt": false
 },
 "nbformat": 4,
 "nbformat_minor": 4
}
